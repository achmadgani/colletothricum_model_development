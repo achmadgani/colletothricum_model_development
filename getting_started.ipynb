{
  "nbformat": 4,
  "nbformat_minor": 0,
  "metadata": {
    "colab": {
      "provenance": [],
      "toc_visible": true,
      "authorship_tag": "ABX9TyNGzU4N3yj5BiJkqpH9bhkb",
      "include_colab_link": true
    },
    "kernelspec": {
      "name": "python3",
      "display_name": "Python 3"
    },
    "language_info": {
      "name": "python"
    }
  },
  "cells": [
    {
      "cell_type": "markdown",
      "metadata": {
        "id": "view-in-github",
        "colab_type": "text"
      },
      "source": [
        "<a href=\"https://colab.research.google.com/github/achmadgani/devops_training/blob/main/getting_started.ipynb\" target=\"_parent\"><img src=\"https://colab.research.google.com/assets/colab-badge.svg\" alt=\"Open In Colab\"/></a>"
      ]
    },
    {
      "cell_type": "markdown",
      "source": [
        "INTRODUCTION TO PYTHON"
      ],
      "metadata": {
        "id": "9Yx8XI_Qms12"
      }
    },
    {
      "cell_type": "markdown",
      "source": [
        "# Introduction"
      ],
      "metadata": {
        "id": "IffeT8LPmaeh"
      }
    },
    {
      "cell_type": "markdown",
      "source": [
        "### Colletothricum Clades Implementation"
      ],
      "metadata": {
        "id": "cm07x0EfnbcY"
      }
    },
    {
      "cell_type": "code",
      "source": [
        "print(\"hello world\")"
      ],
      "metadata": {
        "colab": {
          "base_uri": "https://localhost:8080/"
        },
        "id": "oPrtj1jkmpAB",
        "outputId": "48cabf45-29e8-4b82-9ba3-5b5efb2f2d83"
      },
      "execution_count": 1,
      "outputs": [
        {
          "output_type": "stream",
          "name": "stdout",
          "text": [
            "hello world\n"
          ]
        }
      ]
    },
    {
      "cell_type": "markdown",
      "source": [
        "# New Section\n",
        "\n",
        "Code for Colletothricum Clades implementation python Program"
      ],
      "metadata": {
        "id": "u90v3iG6mgWu"
      }
    },
    {
      "cell_type": "code",
      "source": [],
      "metadata": {
        "id": "tnjc4es7m-HM"
      },
      "execution_count": null,
      "outputs": []
    }
  ]
}