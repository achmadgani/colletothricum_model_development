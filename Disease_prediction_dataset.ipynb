{
  "nbformat": 4,
  "nbformat_minor": 0,
  "metadata": {
    "colab": {
      "provenance": [],
      "include_colab_link": true
    },
    "kernelspec": {
      "name": "python3",
      "display_name": "Python 3"
    },
    "language_info": {
      "name": "python"
    }
  },
  "cells": [
    {
      "cell_type": "markdown",
      "metadata": {
        "id": "view-in-github",
        "colab_type": "text"
      },
      "source": [
        "<a href=\"https://colab.research.google.com/github/achmadgani/colletothricum_model_development/blob/main/Disease_prediction_dataset.ipynb\" target=\"_parent\"><img src=\"https://colab.research.google.com/assets/colab-badge.svg\" alt=\"Open In Colab\"/></a>"
      ]
    },
    {
      "cell_type": "markdown",
      "metadata": {
        "id": "32fjpkeS-nYP"
      },
      "source": [
        "# Weather based plant disease prediction.\n",
        "\n",
        "Loading the data from 2 kind of sources, the weather source and the disease severity source."
      ]
    },
    {
      "cell_type": "markdown",
      "source": [
        "# 1. Connect to the gdrive"
      ],
      "metadata": {
        "id": "6s-RPqsN3vqi"
      }
    },
    {
      "cell_type": "code",
      "source": [
        "from google.colab import drive\n",
        "drive.mount('/content/drive')"
      ],
      "metadata": {
        "id": "3CzhRBPv36vd",
        "colab": {
          "base_uri": "https://localhost:8080/"
        },
        "outputId": "c5dc5a59-23ae-4f80-fce6-a133c4e95258"
      },
      "execution_count": null,
      "outputs": [
        {
          "output_type": "stream",
          "name": "stdout",
          "text": [
            "Mounted at /content/drive\n"
          ]
        }
      ]
    },
    {
      "cell_type": "markdown",
      "source": [
        "# 2. Installing Pyspark in Google Colab"
      ],
      "metadata": {
        "id": "5tmdeo9l620x"
      }
    },
    {
      "cell_type": "code",
      "source": [
        "!sudo apt update\n",
        "!apt-get install openjdk-8-jdk-headless -qq > /dev/null\n",
        "#Check this site for the latest download link https://www.apache.org/dyn/closer.lua/spark/spark-3.2.1/spark-3.2.1-bin-hadoop3.2.tgz\n",
        "!wget -q https://dlcdn.apache.org/spark/spark-3.2.1/spark-3.2.1-bin-hadoop3.2.tgz\n",
        "!tar xf spark-3.2.1-bin-hadoop3.2.tgz\n",
        "!pip install -q findspark\n",
        "!pip install pyspark\n",
        "!pip install py4j\n",
        "\n",
        "import os\n",
        "import sys\n",
        "# os.environ[\"JAVA_HOME\"] = \"/usr/lib/jvm/java-8-openjdk-amd64\"\n",
        "# os.environ[\"SPARK_HOME\"] = \"/content/spark-3.2.1-bin-hadoop3.2\"\n",
        "\n",
        "\n",
        "import findspark\n",
        "findspark.init()\n",
        "findspark.find()\n",
        "\n",
        "import pyspark\n",
        "\n",
        "from pyspark.sql import DataFrame, SparkSession\n",
        "from typing import List\n",
        "import pyspark.sql.types as T\n",
        "import pyspark.sql.functions as F\n",
        "\n",
        "spark= SparkSession \\\n",
        "       .builder \\\n",
        "       .appName(\"Weather-Disease Prediction\") \\\n",
        "       .getOrCreate()\n",
        "\n",
        "spark"
      ],
      "metadata": {
        "id": "sW5SHKcv606d",
        "colab": {
          "base_uri": "https://localhost:8080/",
          "height": 949
        },
        "outputId": "deee7909-4b00-4e14-fd11-76f83f68d216"
      },
      "execution_count": null,
      "outputs": [
        {
          "output_type": "stream",
          "name": "stdout",
          "text": [
            "\u001b[33m\r0% [Working]\u001b[0m\r            \rGet:1 https://cloud.r-project.org/bin/linux/ubuntu jammy-cran40/ InRelease [3,626 B]\n",
            "Get:2 https://developer.download.nvidia.com/compute/cuda/repos/ubuntu2204/x86_64  InRelease [1,581 B]\n",
            "Hit:3 http://archive.ubuntu.com/ubuntu jammy InRelease\n",
            "Get:4 http://security.ubuntu.com/ubuntu jammy-security InRelease [129 kB]\n",
            "Ign:5 https://r2u.stat.illinois.edu/ubuntu jammy InRelease\n",
            "Get:6 https://developer.download.nvidia.com/compute/cuda/repos/ubuntu2204/x86_64  Packages [945 kB]\n",
            "Get:7 https://r2u.stat.illinois.edu/ubuntu jammy Release [5,713 B]\n",
            "Get:8 http://archive.ubuntu.com/ubuntu jammy-updates InRelease [128 kB]\n",
            "Get:9 https://r2u.stat.illinois.edu/ubuntu jammy Release.gpg [793 B]\n",
            "Hit:10 https://ppa.launchpadcontent.net/deadsnakes/ppa/ubuntu jammy InRelease\n",
            "Get:11 https://r2u.stat.illinois.edu/ubuntu jammy/main amd64 Packages [2,560 kB]\n",
            "Get:12 https://ppa.launchpadcontent.net/graphics-drivers/ppa/ubuntu jammy InRelease [24.3 kB]\n",
            "Get:13 http://archive.ubuntu.com/ubuntu jammy-backports InRelease [127 kB]\n",
            "Hit:14 https://ppa.launchpadcontent.net/ubuntugis/ppa/ubuntu jammy InRelease\n",
            "Get:15 https://r2u.stat.illinois.edu/ubuntu jammy/main all Packages [8,232 kB]\n",
            "Get:16 http://archive.ubuntu.com/ubuntu jammy-updates/universe amd64 Packages [1,425 kB]\n",
            "Get:17 https://ppa.launchpadcontent.net/graphics-drivers/ppa/ubuntu jammy/main amd64 Packages [53.3 kB]\n",
            "Get:18 http://archive.ubuntu.com/ubuntu jammy-updates/main amd64 Packages [2,498 kB]\n",
            "Fetched 16.1 MB in 3s (6,433 kB/s)\n",
            "Reading package lists... Done\n",
            "Building dependency tree... Done\n",
            "Reading state information... Done\n",
            "58 packages can be upgraded. Run 'apt list --upgradable' to see them.\n",
            "\u001b[1;33mW: \u001b[0mSkipping acquire of configured file 'main/source/Sources' as repository 'https://r2u.stat.illinois.edu/ubuntu jammy InRelease' does not seem to provide it (sources.list entry misspelt?)\u001b[0m\n",
            "tar: spark-3.2.1-bin-hadoop3.2.tgz: Cannot open: No such file or directory\n",
            "tar: Error is not recoverable: exiting now\n",
            "Collecting pyspark\n",
            "  Downloading pyspark-3.5.2.tar.gz (317.3 MB)\n",
            "\u001b[2K     \u001b[90m━━━━━━━━━━━━━━━━━━━━━━━━━━━━━━━━━━━━━━━━\u001b[0m \u001b[32m317.3/317.3 MB\u001b[0m \u001b[31m5.2 MB/s\u001b[0m eta \u001b[36m0:00:00\u001b[0m\n",
            "\u001b[?25h  Preparing metadata (setup.py) ... \u001b[?25l\u001b[?25hdone\n",
            "Requirement already satisfied: py4j==0.10.9.7 in /usr/local/lib/python3.10/dist-packages (from pyspark) (0.10.9.7)\n",
            "Building wheels for collected packages: pyspark\n",
            "  Building wheel for pyspark (setup.py) ... \u001b[?25l\u001b[?25hdone\n",
            "  Created wheel for pyspark: filename=pyspark-3.5.2-py2.py3-none-any.whl size=317812365 sha256=06744ea3729d036fce4dc4957ad123f29fa31012b55ce74bebeae085b9c818e6\n",
            "  Stored in directory: /root/.cache/pip/wheels/34/34/bd/03944534c44b677cd5859f248090daa9fb27b3c8f8e5f49574\n",
            "Successfully built pyspark\n",
            "Installing collected packages: pyspark\n",
            "Successfully installed pyspark-3.5.2\n",
            "Requirement already satisfied: py4j in /usr/local/lib/python3.10/dist-packages (0.10.9.7)\n"
          ]
        },
        {
          "output_type": "execute_result",
          "data": {
            "text/plain": [
              "<pyspark.sql.session.SparkSession at 0x7fc5b805fe50>"
            ],
            "text/html": [
              "\n",
              "            <div>\n",
              "                <p><b>SparkSession - in-memory</b></p>\n",
              "                \n",
              "        <div>\n",
              "            <p><b>SparkContext</b></p>\n",
              "\n",
              "            <p><a href=\"http://2e797d4c4d2e:4040\">Spark UI</a></p>\n",
              "\n",
              "            <dl>\n",
              "              <dt>Version</dt>\n",
              "                <dd><code>v3.5.2</code></dd>\n",
              "              <dt>Master</dt>\n",
              "                <dd><code>local[*]</code></dd>\n",
              "              <dt>AppName</dt>\n",
              "                <dd><code>Our First Spark Example</code></dd>\n",
              "            </dl>\n",
              "        </div>\n",
              "        \n",
              "            </div>\n",
              "        "
            ]
          },
          "metadata": {},
          "execution_count": 2
        }
      ]
    },
    {
      "cell_type": "markdown",
      "metadata": {
        "id": "m9yXqV3LigUA"
      },
      "source": [
        "# 3. Load data and preprocessing the data"
      ]
    },
    {
      "cell_type": "code",
      "source": [
        "#Load the weather data\n",
        "\n",
        "import pyspark.sql.functions as F\n",
        "\n",
        "TEMP_LIST = [\"temp\", \"temp_min\", \"temp_max\", \"feels_like\", \"dew_point\"] # temperature list needed to be converted\n",
        "\n",
        "def convert_to_celcius(df, columns):\n",
        "    \"\"\"\n",
        "    Convert specified columns from Kelvin to Celsius in a PySpark DataFrame.\n",
        "    This function overwrites the original columns.\n",
        "\n",
        "    Parameters:\n",
        "    - df: PySpark DataFrame\n",
        "    - columns: List of column names to be converted from Kelvin to Celsius\n",
        "\n",
        "    Returns:\n",
        "    - PySpark DataFrame with columns converted to Celsius\n",
        "    \"\"\"\n",
        "    for column in columns:\n",
        "        df = df.withColumn(column, F.round(F.col(column) - 273.15, 2))\n",
        "    return df\n",
        "\n",
        "# Path to your CSV file in Google Drive\n",
        "csv_file_path = \"/content/drive/MyDrive/病害診断データ/Italy & India.csv\"\n",
        "\n",
        "# Read the CSV file into a Spark DataFrame\n",
        "df = spark.read.csv(csv_file_path, header=True, inferSchema=True)\n",
        "\n",
        "# Get distinct city names\n",
        "city_names = [row.city_name for row in df.select(\"city_name\").distinct().collect()]\n",
        "\n",
        "# Create a dictionary to store DataFrames for each city\n",
        "city_dfs = {}\n",
        "\n",
        "for city in city_names:\n",
        "    # Filter the DataFrame by city_name and store it in the dictionary\n",
        "    city_dfs[city] = df.filter(F.col(\"city_name\") == city)\n",
        "\n",
        "sardinia_df = city_dfs.get(\"Sardinia\")\n",
        "nagayalanka_df = city_dfs.get(\"Nagayalanka\")\n",
        "\n",
        "# Apply the function with a list of columns\n",
        "sardinia_df = convert_to_celcius(sardinia_df, TEMP_LIST)\n",
        "nagayalanka_df = convert_to_celcius(nagayalanka_df, TEMP_LIST)\n",
        "\n",
        "sardinia_df.show(10)"
      ],
      "metadata": {
        "id": "xWhOVwUG422n",
        "colab": {
          "base_uri": "https://localhost:8080/"
        },
        "outputId": "abf60d1c-1af0-4c74-dec1-15d1cafb3dc7"
      },
      "execution_count": null,
      "outputs": [
        {
          "output_type": "stream",
          "name": "stdout",
          "text": [
            "+---------+--------------------+--------+---------+---------+--------+-----+----------+---------+----------+--------+--------+--------+---------+----------+--------+----------+--------+---------+-------+-------+-------+-------+----------+----------+------------+-------------------+------------+\n",
            "|       dt|              dt_iso|timezone|city_name|      lat|     lon| temp|visibility|dew_point|feels_like|temp_min|temp_max|pressure|sea_level|grnd_level|humidity|wind_speed|wind_deg|wind_gust|rain_1h|rain_3h|snow_1h|snow_3h|clouds_all|weather_id|weather_main|weather_description|weather_icon|\n",
            "+---------+--------------------+--------+---------+---------+--------+-----+----------+---------+----------+--------+--------+--------+---------+----------+--------+----------+--------+---------+-------+-------+-------+-------+----------+----------+------------+-------------------+------------+\n",
            "|283996800|1979-01-01 00:00:...|    3600| Sardinia|40.120875|9.012893|11.37|      NULL|    10.44|     11.02|   11.02|   11.73|    1008|     NULL|      NULL|      94|      2.51|     247|     NULL|   NULL|   NULL|   NULL|   NULL|        27|       802|      Clouds|   scattered clouds|         03n|\n",
            "|284000400|1979-01-01 01:00:...|    3600| Sardinia|40.120875|9.012893| 11.1|      NULL|    10.01|     10.69|   10.84|   11.37|    1009|     NULL|      NULL|      93|      2.96|     237|     NULL|   NULL|   NULL|   NULL|   NULL|        45|       802|      Clouds|   scattered clouds|         03n|\n",
            "|284004000|1979-01-01 02:00:...|    3600| Sardinia|40.120875|9.012893|11.92|      NULL|    10.83|      11.6|   11.56|   12.28|    1009|     NULL|      NULL|      93|      3.27|     242|     NULL|   NULL|   NULL|   NULL|   NULL|        84|       803|      Clouds|      broken clouds|         04n|\n",
            "|284007600|1979-01-01 03:00:...|    3600| Sardinia|40.120875|9.012893|11.94|      NULL|    10.84|     11.62|   11.64|   12.24|    1008|     NULL|      NULL|      93|      3.04|     244|     NULL|   NULL|   NULL|   NULL|   NULL|        72|       803|      Clouds|      broken clouds|         04n|\n",
            "|284011200|1979-01-01 04:00:...|    3600| Sardinia|40.120875|9.012893| 11.8|      NULL|    10.71|     11.46|   11.48|   12.12|    1007|     NULL|      NULL|      93|      3.25|     243|     NULL|   NULL|   NULL|   NULL|   NULL|        55|       803|      Clouds|      broken clouds|         04n|\n",
            "|284014800|1979-01-01 05:00:...|    3600| Sardinia|40.120875|9.012893|11.57|      NULL|    10.32|     11.18|   11.36|   11.79|    1007|     NULL|      NULL|      92|       4.0|     256|     NULL|   NULL|   NULL|   NULL|   NULL|        82|       803|      Clouds|      broken clouds|         04n|\n",
            "|284018400|1979-01-01 06:00:...|    3600| Sardinia|40.120875|9.012893| 11.3|      NULL|    10.21|     10.91|   11.06|   11.55|    1007|     NULL|      NULL|      93|      4.59|     263|     NULL|   NULL|   NULL|   NULL|   NULL|        96|       804|      Clouds|    overcast clouds|         04n|\n",
            "|284022000|1979-01-01 07:00:...|    3600| Sardinia|40.120875|9.012893|11.55|      NULL|     10.3|     11.16|    11.3|   11.81|    1008|     NULL|      NULL|      92|      5.21|     268|     NULL|   0.11|   NULL|   NULL|   NULL|       100|       500|        Rain|         light rain|         10d|\n",
            "|284025600|1979-01-01 08:00:...|    3600| Sardinia|40.120875|9.012893|11.02|      NULL|     9.44|     10.53|     9.7|   11.95|    1008|     NULL|      NULL|      90|      5.27|     268|     NULL|   0.15|   NULL|   NULL|   NULL|        98|       500|        Rain|         light rain|         10d|\n",
            "|284029200|1979-01-01 09:00:...|    3600| Sardinia|40.120875|9.012893|10.32|      NULL|     8.25|      9.68|    8.98|   11.25|    1008|     NULL|      NULL|      87|      5.58|     272|     NULL|   0.13|   NULL|   NULL|   NULL|        59|       500|        Rain|         light rain|         10d|\n",
            "+---------+--------------------+--------+---------+---------+--------+-----+----------+---------+----------+--------+--------+--------+---------+----------+--------+----------+--------+---------+-------+-------+-------+-------+----------+----------+------------+-------------------+------------+\n",
            "only showing top 10 rows\n",
            "\n"
          ]
        }
      ]
    },
    {
      "cell_type": "code",
      "source": [
        "# Load the disease severity data\n",
        "\n",
        "# Path to your CSV file in Google Drive\n",
        "csv_pr = \"/content/drive/MyDrive/病害診断データ/severity_results_pr.csv\"\n",
        "\n",
        "# Read the CSV file into a Spark DataFrame\n",
        "\n",
        "sar_disease_df = spark.read.csv(csv_pr, header=True, inferSchema=True)\n",
        "sar_disease_df.show(5)\n",
        "\n",
        "import pyspark.sql.functions as F\n",
        "from pyspark.sql import types as T\n",
        "\n",
        "def round_to_nearest_hour(dt_col):\n",
        "    # Extract components of the timestamp\n",
        "    year_col = F.year(dt_col)\n",
        "    month_col = F.month(dt_col)\n",
        "    day_col = F.dayofmonth(dt_col)\n",
        "    hour_col = F.hour(dt_col)\n",
        "    minute_col = F.minute(dt_col)\n",
        "\n",
        "    # Create the rounded timestamp column\n",
        "    rounded_timestamp = F.when(minute_col < 30,\n",
        "                               F.make_timestamp(year_col, month_col, day_col, hour_col, F.lit(0), F.lit(0))) \\\n",
        "                         .otherwise(F.make_timestamp(year_col, month_col, day_col, hour_col + 1, F.lit(0), F.lit(0)))\n",
        "\n",
        "    return rounded_timestamp\n",
        "\n",
        "# Apply the rounding function to the Date Time column and create a new column\n",
        "sar_disease_df = sar_disease_df.withColumn(\"Round_dt\", round_to_nearest_hour(F.col(\"Date Time\")))\n",
        "\n",
        "# Show the updated DataFrame\n",
        "sar_disease_df.show(5)\n"
      ],
      "metadata": {
        "id": "gRfWFK8f66Bm",
        "colab": {
          "base_uri": "https://localhost:8080/"
        },
        "outputId": "02bd9ef5-3665-453a-89ce-806a548af75c"
      },
      "execution_count": null,
      "outputs": [
        {
          "output_type": "stream",
          "name": "stdout",
          "text": [
            "+----------+-------------------+--------------------+\n",
            "|  Filename|          Date Time|            Severity|\n",
            "+----------+-------------------+--------------------+\n",
            "|u113_0.png|2020-05-04 13:21:00|0.008749119323640557|\n",
            "|u115_0.png|2020-05-04 13:21:00|0.030556496044815168|\n",
            "|u119_0.png|2020-05-04 13:22:00|0.022122323435466697|\n",
            "| u12_0.png|2020-05-02 09:53:00|0.006733798089336...|\n",
            "| u12_1.png|2020-05-02 09:53:00|0.003651097218967...|\n",
            "+----------+-------------------+--------------------+\n",
            "only showing top 5 rows\n",
            "\n",
            "+----------+-------------------+--------------------+-------------------+\n",
            "|  Filename|          Date Time|            Severity|           Round_dt|\n",
            "+----------+-------------------+--------------------+-------------------+\n",
            "|u113_0.png|2020-05-04 13:21:00|0.008749119323640557|2020-05-04 13:00:00|\n",
            "|u115_0.png|2020-05-04 13:21:00|0.030556496044815168|2020-05-04 13:00:00|\n",
            "|u119_0.png|2020-05-04 13:22:00|0.022122323435466697|2020-05-04 13:00:00|\n",
            "| u12_0.png|2020-05-02 09:53:00|0.006733798089336...|2020-05-02 10:00:00|\n",
            "| u12_1.png|2020-05-02 09:53:00|0.003651097218967...|2020-05-02 10:00:00|\n",
            "+----------+-------------------+--------------------+-------------------+\n",
            "only showing top 5 rows\n",
            "\n"
          ]
        }
      ]
    },
    {
      "cell_type": "markdown",
      "source": [
        "# 3. Feature Engineering\n",
        "\n",
        "In this part we do feature manipulation such as wind velocity"
      ],
      "metadata": {
        "id": "rIqRB-AYBIUJ"
      }
    },
    {
      "cell_type": "code",
      "source": [
        "import numpy as np\n",
        "\n",
        "def calculate_wind_velocity(df):\n",
        "    # Convert wind direction to radians\n",
        "    df = df.withColumn('wind_deg_rad', F.col('wind_deg') * np.pi / 180)\n",
        "\n",
        "    # Calculate wind velocity components Wx and Wy\n",
        "    df = df.withColumn('Wx', F.col('wind_speed') * F.cos(F.col('wind_deg_rad')))\n",
        "    df = df.withColumn('Wy', F.col('wind_speed') * F.sin(F.col('wind_deg_rad')))\n",
        "\n",
        "    # Drop the temporary wind_deg_rad column if not needed anymore\n",
        "    df = df.drop('wind_deg_rad')\n",
        "\n",
        "    return df\n",
        "\n",
        "# Example usage on the weather dataframe\n",
        "featured_sardinia_df = calculate_wind_velocity(sardinia_df)\n",
        "featured_sardinia_df.show(10)"
      ],
      "metadata": {
        "id": "xZDIRU6fBHxw",
        "colab": {
          "base_uri": "https://localhost:8080/"
        },
        "outputId": "b4813894-4b2e-48f3-a0ad-6e05ab9b89bf"
      },
      "execution_count": null,
      "outputs": [
        {
          "output_type": "stream",
          "name": "stdout",
          "text": [
            "+---------+--------------------+--------+---------+---------+--------+-----+----------+---------+----------+--------+--------+--------+---------+----------+--------+----------+--------+---------+-------+-------+-------+-------+----------+----------+------------+-------------------+------------+--------------------+-------------------+\n",
            "|       dt|              dt_iso|timezone|city_name|      lat|     lon| temp|visibility|dew_point|feels_like|temp_min|temp_max|pressure|sea_level|grnd_level|humidity|wind_speed|wind_deg|wind_gust|rain_1h|rain_3h|snow_1h|snow_3h|clouds_all|weather_id|weather_main|weather_description|weather_icon|                  Wx|                 Wy|\n",
            "+---------+--------------------+--------+---------+---------+--------+-----+----------+---------+----------+--------+--------+--------+---------+----------+--------+----------+--------+---------+-------+-------+-------+-------+----------+----------+------------+-------------------+------------+--------------------+-------------------+\n",
            "|283996800|1979-01-01 00:00:...|    3600| Sardinia|40.120875|9.012893|11.37|      NULL|    10.44|     11.02|   11.02|   11.73|    1008|     NULL|      NULL|      94|      2.51|     247|     NULL|   NULL|   NULL|   NULL|   NULL|        27|       802|      Clouds|   scattered clouds|         03n| -0.9807351325080772| -2.310467182165625|\n",
            "|284000400|1979-01-01 01:00:...|    3600| Sardinia|40.120875|9.012893| 11.1|      NULL|    10.01|     10.69|   10.84|   11.37|    1009|     NULL|      NULL|      93|      2.96|     237|     NULL|   NULL|   NULL|   NULL|   NULL|        45|       802|      Clouds|   scattered clouds|         03n| -1.6121315436444799|-2.4824648811184553|\n",
            "|284004000|1979-01-01 02:00:...|    3600| Sardinia|40.120875|9.012893|11.92|      NULL|    10.83|      11.6|   11.56|   12.28|    1009|     NULL|      NULL|      93|      3.27|     242|     NULL|   NULL|   NULL|   NULL|   NULL|        84|       803|      Clouds|      broken clouds|         04n| -1.5351720103098627|-2.8872386286486913|\n",
            "|284007600|1979-01-01 03:00:...|    3600| Sardinia|40.120875|9.012893|11.94|      NULL|    10.84|     11.62|   11.64|   12.24|    1008|     NULL|      NULL|      93|      3.04|     244|     NULL|   NULL|   NULL|   NULL|   NULL|        72|       803|      Clouds|      broken clouds|         04n| -1.3326482862387963| -2.732333900749467|\n",
            "|284011200|1979-01-01 04:00:...|    3600| Sardinia|40.120875|9.012893| 11.8|      NULL|    10.71|     11.46|   11.48|   12.12|    1007|     NULL|      NULL|      93|      3.25|     243|     NULL|   NULL|   NULL|   NULL|   NULL|        55|       803|      Clouds|      broken clouds|         04n| -1.4754691241535274|-2.8957712036121954|\n",
            "|284014800|1979-01-01 05:00:...|    3600| Sardinia|40.120875|9.012893|11.57|      NULL|    10.32|     11.18|   11.36|   11.79|    1007|     NULL|      NULL|      92|       4.0|     256|     NULL|   NULL|   NULL|   NULL|   NULL|        82|       803|      Clouds|      broken clouds|         04n| -0.9676875823986711| -3.881182905103986|\n",
            "|284018400|1979-01-01 06:00:...|    3600| Sardinia|40.120875|9.012893| 11.3|      NULL|    10.21|     10.91|   11.06|   11.55|    1007|     NULL|      NULL|      93|      4.59|     263|     NULL|   NULL|   NULL|   NULL|   NULL|        96|       804|      Clouds|    overcast clouds|         04n| -0.5593802862296255| -4.555786836033668|\n",
            "|284022000|1979-01-01 07:00:...|    3600| Sardinia|40.120875|9.012893|11.55|      NULL|     10.3|     11.16|    11.3|   11.81|    1008|     NULL|      NULL|      92|      5.21|     268|     NULL|   0.11|   NULL|   NULL|   NULL|       100|       500|        Rain|         light rain|         10d|-0.18182637782003358| -5.206826208769488|\n",
            "|284025600|1979-01-01 08:00:...|    3600| Sardinia|40.120875|9.012893|11.02|      NULL|     9.44|     10.53|     9.7|   11.95|    1008|     NULL|      NULL|      90|      5.27|     268|     NULL|   0.15|   NULL|   NULL|   NULL|        98|       500|        Rain|         light rain|         10d|-0.18392034762218368| -5.266789658390634|\n",
            "|284029200|1979-01-01 09:00:...|    3600| Sardinia|40.120875|9.012893|10.32|      NULL|     8.25|      9.68|    8.98|   11.25|    1008|     NULL|      NULL|      87|      5.58|     272|     NULL|   0.13|   NULL|   NULL|   NULL|        59|       500|        Rain|         light rain|         10d| 0.19473919159995715| -5.576600814766555|\n",
            "+---------+--------------------+--------+---------+---------+--------+-----+----------+---------+----------+--------+--------+--------+---------+----------+--------+----------+--------+---------+-------+-------+-------+-------+----------+----------+------------+-------------------+------------+--------------------+-------------------+\n",
            "only showing top 10 rows\n",
            "\n"
          ]
        }
      ]
    },
    {
      "cell_type": "markdown",
      "metadata": {
        "id": "UHvKMqLQ4ezk"
      },
      "source": [
        "# 4. Create a dataset"
      ]
    },
    {
      "cell_type": "code",
      "metadata": {
        "id": "xzvNxiQSixRU"
      },
      "source": [
        "from pyspark.sql.window import Window\n",
        "from pyspark.sql import Row\n",
        "from pyspark.sql.functions import to_timestamp, date_format, regexp_replace\n",
        "from pyspark.sql.types import StructType, StructField, TimestampType, DoubleType, ArrayType, FloatType\n",
        "\n",
        "class WindowGenerator():\n",
        "  def __init__(self, input_width, label_width, shift,label_columns=None, disease_df=None, weather_df=None, spark=None):\n",
        "\n",
        "    # Work out the label column indices.\n",
        "    self.label_columns = label_columns\n",
        "    if label_columns is not None:\n",
        "      self.label_columns_indices = {name: i for i, name in\n",
        "                                    enumerate(label_columns)}\n",
        "\n",
        "    # Work out the window parameters.\n",
        "    self.input_width = input_width\n",
        "    self.label_width = label_width\n",
        "    self.shift = shift\n",
        "    self.disease_df = disease_df\n",
        "    self.weather_df = weather_df\n",
        "\n",
        "    self.total_window_size = input_width + shift\n",
        "\n",
        "    self.input_slice = slice(0, input_width)\n",
        "    self.input_indices = np.arange(self.total_window_size)[self.input_slice]\n",
        "\n",
        "    self.label_start = self.total_window_size - self.label_width\n",
        "    self.labels_slice = slice(self.label_start, None)\n",
        "    self.label_indices = np.arange(self.total_window_size)[self.labels_slice]\n",
        "    self.spark = spark\n",
        "\n",
        "  def __repr__(self):\n",
        "    return '\\n'.join([\n",
        "        f'Total window size: {self.total_window_size}',\n",
        "        f'Input indices: {self.input_indices}',\n",
        "        f'Label indices: {self.label_indices}',\n",
        "        f'Label column name(s): {self.label_columns}'])\n",
        "\n",
        "  def create_dataset(self):\n",
        "      if self.disease_df is None or self.weather_df is None:\n",
        "          return print('Insufficient dataset to perform dataset creation')\n",
        "\n",
        "      # Select the required weather features\n",
        "      weather_features = ['temp', 'dew_point', 'feels_like', 'temp_min', 'temp_max',\n",
        "                          'pressure', 'humidity', 'Wx', 'Wy', 'rain_1h', 'rain_3h']\n",
        "\n",
        "      # Create an empty list to store the results\n",
        "      results = []\n",
        "\n",
        "      # Iterate over each row in the disease_df\n",
        "      # DEBUGGING\n",
        "      for row in self.disease_df.collect():\n",
        "          round_dt = row['Round_dt']\n",
        "\n",
        "          # Convert round_dt to a Spark Column using lit\n",
        "          round_dt_col = F.lit(round_dt).cast(TimestampType())\n",
        "\n",
        "          # Filter the weather_df to get the past M timesteps\n",
        "          past_weather_data = self.weather_df.filter(\n",
        "              (F.col('dt_iso') <= round_dt_col) &\n",
        "              (F.col('dt_iso') >= F.date_sub(round_dt_col, self.input_width))\n",
        "          ).orderBy(F.col('dt_iso').desc()).limit(self.input_width)\n",
        "\n",
        "          # Collect the features for these timesteps\n",
        "          feature_values = past_weather_data.select(weather_features).collect()\n",
        "          feature_list = [[float(x[feature]) if x[feature] is not None else None for x in feature_values]\n",
        "                            for feature in weather_features]\n",
        "\n",
        "          # Append the result as a tuple (Round_dt, Severity, Features)\n",
        "          results.append((row['Round_dt'], row['Severity'], feature_list))\n",
        "\n",
        "      # Convert the results to a DataFrame\n",
        "      schema = StructType([\n",
        "            StructField(\"Round_dt\", TimestampType(), True),\n",
        "            StructField(\"Severity\", FloatType(), True),\n",
        "            StructField(\"Features\", ArrayType(ArrayType(FloatType())), True)\n",
        "        ])\n",
        "      final_df = self.spark.createDataFrame(results, schema=schema)\n",
        "\n",
        "      return final_df\n",
        "\n"
      ],
      "execution_count": null,
      "outputs": []
    },
    {
      "cell_type": "code",
      "source": [
        "# Pear dataset\n",
        "w1 = WindowGenerator(input_width=48, label_width=1, shift=1,disease_df=sar_disease_df, weather_df=featured_sardinia_df,\n",
        "                     label_columns=['Disease severity'], spark=spark)\n",
        "\n",
        "#Blackgram dataset\n",
        "w2 = WindowGenerator(input_width=48, label_width=1, shift=1,\n",
        "                     label_columns=['Disease severity'])\n",
        "w1, w2"
      ],
      "metadata": {
        "id": "-FmasNTjLlUC",
        "colab": {
          "base_uri": "https://localhost:8080/"
        },
        "outputId": "b27e1b0b-6cf9-4d92-f32a-ec9ab6af3faa"
      },
      "execution_count": null,
      "outputs": [
        {
          "output_type": "execute_result",
          "data": {
            "text/plain": [
              "(Total window size: 49\n",
              " Input indices: [ 0  1  2  3  4  5  6  7  8  9 10 11 12 13 14 15 16 17 18 19 20 21 22 23\n",
              "  24 25 26 27 28 29 30 31 32 33 34 35 36 37 38 39 40 41 42 43 44 45 46 47]\n",
              " Label indices: [48]\n",
              " Label column name(s): ['Disease severity'],\n",
              " Total window size: 49\n",
              " Input indices: [ 0  1  2  3  4  5  6  7  8  9 10 11 12 13 14 15 16 17 18 19 20 21 22 23\n",
              "  24 25 26 27 28 29 30 31 32 33 34 35 36 37 38 39 40 41 42 43 44 45 46 47]\n",
              " Label indices: [48]\n",
              " Label column name(s): ['Disease severity'])"
            ]
          },
          "metadata": {},
          "execution_count": 22
        }
      ]
    },
    {
      "cell_type": "code",
      "source": [
        "def fixed_timestamp(self):\n",
        "  # Convert dt_iso and Round_dt to timestamp format\n",
        "  self.weather_df = self.weather_df.withColumn('dt_iso', regexp_replace('dt_iso', r'\\s\\+\\d{4}\\s\\w+', ''))\n",
        "  self.weather_df = self.weather_df.withColumn('dt_iso', to_timestamp('dt_iso', 'yyyy-MM-dd HH:mm:ss'))\n",
        "\n",
        "  # Convert Round_dt to timestamp\n",
        "  self.disease_df = self.disease_df.withColumn('Round_dt', to_timestamp('Round_dt'))\n",
        "\n",
        "WindowGenerator.fixed_timestamp = fixed_timestamp\n",
        "\n",
        "w1.fixed_timestamp()"
      ],
      "metadata": {
        "id": "qVu1XKX-aAKz"
      },
      "execution_count": null,
      "outputs": []
    },
    {
      "cell_type": "code",
      "source": [
        "sardinia=w1.create_dataset()\n",
        "sardinia.write.partitionBy('Round_dt').parquet('/content/drive/MyDrive/病害診断データ/sardinia_dataset.parquet', mode='overwrite')\n",
        "sardinia.show(10, truncate=False)"
      ],
      "metadata": {
        "id": "ns8_0ti6l7s8",
        "colab": {
          "base_uri": "https://localhost:8080/"
        },
        "outputId": "f6a4953c-aaad-4877-b146-2f46c343f712"
      },
      "execution_count": null,
      "outputs": [
        {
          "output_type": "stream",
          "name": "stdout",
          "text": [
            "+-------------------+------------+-------------------------------------------------------------------------------------------------------------------------------------------------------------------------------------------------------------------------------------------------------------------------------------------------------------------------------------------------------------------------------------------------------------------------------------------------------------------------------------------------------------------------------------------------------------------------------------------------------------------------------------------------------------------------------------------------------------------------------------------------------------------------------------------------------------------------------------------------------------------------------------------------------------------------------------------------------------------------------------------------------------------------------------------------------------------------------------------------------------------------------------------------------------------------------------------------------------------------------------------------------------------------------------------------------------------------------------------------------------------------------------------------------------------------------------------------------------------------------------------------------------------------------------------------------------------------------------------------------------------------------------------------------------------------------------------------------------------------------------------------------------------------------------------------------------------------------------------------------------------------------------------------------------------------------------------------------------------------------------------------------------------------------------------------------------------------------------------------------------------------------------------------------------------------------------------------------------------------------------------------------------------------------------------------------------------------------------------------------------------------------------------------------------------------------------------------------------------------------------------------------------------------------------------------------------------------------------------------------------------------------------------------------------------------------------------------------------------------------------------------------------------------------------------------------------------------------------------------------------------------------------------------------------------------------------------------------------------------------------------------------------------------------------------------------------------------------------------------------------------------------------------------------------------------------------------------------------------------------------------------------------------------------------------------------------------------------------------------------------------------------------------------------------------------------------------------------------------------------------------------------------------------------------------------------------------------------------------------------------------------------------------------------------------------------------------------------------------------------------------------------------------------------------------------------------------------------------------------------------------------------------------------------------------------------------------------------------------------------------------------------------------------------------------------------------------------------------------------------------------------------------------------------------------------------------------------------------------------+\n",
            "|Round_dt           |Severity    |Features                                                                                                                                                                                                                                                                                                                                                                                                                                                                                                                                                                                                                                                                                                                                                                                                                                                                                                                                                                                                                                                                                                                                                                                                                                                                                                                                                                                                                                                                                                                                                                                                                                                                                                                                                                                                                                                                                                                                                                                                                                                                                                                                                                                                                                                                                                                                                                                                                                                                                                                                                                                                                                                                                                                                                                                                                                                                                                                                                                                                                                                                                                                                                                                                                                                                                                                                                                                                                                                                                                                                                                                                                                                                                                                                                                                                                                                                                                                                                                                                                                                                                                                                                                                                                 |\n",
            "+-------------------+------------+-------------------------------------------------------------------------------------------------------------------------------------------------------------------------------------------------------------------------------------------------------------------------------------------------------------------------------------------------------------------------------------------------------------------------------------------------------------------------------------------------------------------------------------------------------------------------------------------------------------------------------------------------------------------------------------------------------------------------------------------------------------------------------------------------------------------------------------------------------------------------------------------------------------------------------------------------------------------------------------------------------------------------------------------------------------------------------------------------------------------------------------------------------------------------------------------------------------------------------------------------------------------------------------------------------------------------------------------------------------------------------------------------------------------------------------------------------------------------------------------------------------------------------------------------------------------------------------------------------------------------------------------------------------------------------------------------------------------------------------------------------------------------------------------------------------------------------------------------------------------------------------------------------------------------------------------------------------------------------------------------------------------------------------------------------------------------------------------------------------------------------------------------------------------------------------------------------------------------------------------------------------------------------------------------------------------------------------------------------------------------------------------------------------------------------------------------------------------------------------------------------------------------------------------------------------------------------------------------------------------------------------------------------------------------------------------------------------------------------------------------------------------------------------------------------------------------------------------------------------------------------------------------------------------------------------------------------------------------------------------------------------------------------------------------------------------------------------------------------------------------------------------------------------------------------------------------------------------------------------------------------------------------------------------------------------------------------------------------------------------------------------------------------------------------------------------------------------------------------------------------------------------------------------------------------------------------------------------------------------------------------------------------------------------------------------------------------------------------------------------------------------------------------------------------------------------------------------------------------------------------------------------------------------------------------------------------------------------------------------------------------------------------------------------------------------------------------------------------------------------------------------------------------------------------------------------------------------------------+\n",
            "|2020-05-04 13:00:00|0.008749119 |[[24.07, 23.69, 23.93, 23.61, 21.95, 20.52, 17.66, 15.16, 13.75, 12.63, 11.81, 11.59, 13.0, 13.46, 13.43, 13.58, 15.52, 16.8, 16.96, 18.46, 19.72, 21.79, 21.95, 22.35, 22.64, 22.29, 22.34, 22.07, 21.12, 20.11, 17.74, 16.82, 15.69, 14.47, 14.95, 14.92, 15.21, 15.91, 16.03, 15.33, 16.44, 16.32, 17.32, 18.19, 18.85, 21.05, 21.88, 22.39], [14.48, 14.4, 14.06, 14.6, 14.34, 14.19, 14.93, 13.53, 12.47, 12.01, 11.19, 10.97, 12.38, 12.68, 12.96, 13.27, 14.23, 14.8, 14.78, 14.95, 15.37, 15.4, 15.31, 15.69, 15.73, 15.4, 15.45, 15.66, 15.21, 14.47, 14.82, 15.0, 14.56, 14.0, 14.16, 14.13, 14.41, 15.11, 15.23, 14.53, 15.14, 15.02, 14.96, 15.07, 15.13, 14.92, 14.77, 14.51], [23.97, 23.58, 23.79, 23.51, 21.82, 20.38, 17.67, 15.08, 13.58, 12.46, 11.55, 11.31, 12.86, 13.34, 13.36, 13.55, 15.53, 16.83, 16.98, 18.45, 19.73, 21.77, 21.92, 22.36, 22.66, 22.27, 22.33, 22.08, 21.09, 20.0, 17.74, 16.88, 15.74, 14.51, 14.98, 14.95, 15.27, 16.04, 16.17, 15.4, 16.54, 16.41, 17.35, 18.21, 18.85, 20.99, 21.79, 22.28], [23.21, 22.78, 23.0, 22.56, 20.84, 19.11, 17.64, 13.55, 12.36, 11.3, 10.44, 10.12, 11.57, 12.01, 12.06, 12.25, 15.14, 16.65, 15.6, 17.09, 18.34, 20.41, 20.55, 21.0, 21.28, 20.93, 21.06, 20.83, 19.89, 18.85, 16.56, 15.52, 14.31, 13.28, 13.77, 13.59, 13.86, 14.65, 14.78, 14.14, 15.37, 15.13, 16.11, 17.01, 17.7, 19.85, 20.67, 21.16], [24.82, 24.33, 24.55, 24.31, 22.57, 21.38, 17.68, 16.24, 15.04, 13.95, 13.2, 13.07, 14.48, 14.97, 15.07, 15.39, 15.91, 16.94, 18.58, 19.81, 21.01, 23.05, 23.23, 23.56, 23.81, 23.46, 23.5, 23.22, 22.11, 21.02, 18.74, 18.04, 17.2, 16.42, 16.94, 16.88, 17.11, 17.78, 17.77, 16.99, 17.71, 17.57, 18.54, 19.41, 19.96, 22.17, 23.05, 23.53], [1018.0, 1018.0, 1019.0, 1019.0, 1019.0, 1019.0, 1019.0, 1019.0, 1018.0, 1018.0, 1018.0, 1018.0, 1017.0, 1018.0, 1018.0, 1018.0, 1018.0, 1018.0, 1017.0, 1017.0, 1016.0, 1016.0, 1016.0, 1016.0, 1016.0, 1016.0, 1016.0, 1016.0, 1016.0, 1016.0, 1016.0, 1016.0, 1016.0, 1016.0, 1016.0, 1017.0, 1017.0, 1017.0, 1017.0, 1018.0, 1018.0, 1018.0, 1017.0, 1017.0, 1016.0, 1016.0, 1016.0, 1016.0], [55.0, 56.0, 54.0, 57.0, 62.0, 67.0, 84.0, 90.0, 92.0, 96.0, 96.0, 96.0, 96.0, 95.0, 97.0, 98.0, 92.0, 88.0, 87.0, 80.0, 76.0, 67.0, 66.0, 66.0, 65.0, 65.0, 65.0, 67.0, 69.0, 70.0, 83.0, 89.0, 93.0, 97.0, 95.0, 95.0, 95.0, 95.0, 95.0, 95.0, 92.0, 92.0, 86.0, 82.0, 79.0, 68.0, 64.0, 61.0], [-0.09806759, 0.35489142, 0.71338695, 0.9273595, 0.2157183, 0.11412194, 0.17749967, 0.3893614, 0.45204526, 0.41345602, 0.40044883, 0.3790092, 0.2543634, 0.21963778, 0.23564002, 0.35238045, 0.0052335956, -0.037691455, 0.4251575, 0.941662, 1.6431504, 2.2945504, 2.950682, 3.7493784, 3.5900185, 2.5514266, 2.7149339, 2.9092567, 3.4444752, 3.3386374, 2.6, 0.23357739, 0.03734815, -0.40126956, -0.99335706, -0.8170215, -0.8066029, -0.22685215, -0.5612588, -0.89, -0.16097383, -0.03560291, 0.279091, 0.35748735, 0.4139327, 0.98758054, 1.303959, 1.3087975], [-2.8082883, -2.5251837, -2.3333836, -2.0828836, -1.5349154, -0.8120198, 0.38064927, 1.1983312, 1.5764692, 1.4418925, 1.1629878, 0.8928897, 0.8319851, 0.49331453, 0.109880745, 0.2956823, 0.099862956, -1.0793421, -1.8415594, -2.2184167, -3.0903165, -3.6720483, -4.0612655, -4.7989855, -5.322421, -5.007457, -4.8978705, -4.655784, -5.5123124, -5.141051, -4.503332, -2.6698017, -2.1396742, -1.8878249, -1.3672388, -1.1245337, -1.653781, -1.6141369, -2.251086, -1.5415252, -1.5315638, -2.0396893, -2.6553736, -3.401265, -3.9383068, -4.646201, -5.229894, -5.2493], [NULL, NULL, NULL, NULL, NULL, NULL, NULL, NULL, NULL, NULL, NULL, NULL, NULL, NULL, NULL, NULL, NULL, NULL, NULL, NULL, NULL, NULL, NULL, NULL, NULL, NULL, NULL, NULL, NULL, NULL, NULL, NULL, NULL, NULL, NULL, NULL, NULL, NULL, NULL, NULL, NULL, NULL, NULL, NULL, NULL, NULL, NULL, NULL], [NULL, NULL, NULL, NULL, NULL, NULL, NULL, NULL, NULL, NULL, NULL, NULL, NULL, NULL, NULL, NULL, NULL, NULL, NULL, NULL, NULL, NULL, NULL, NULL, NULL, NULL, NULL, NULL, NULL, NULL, NULL, NULL, NULL, NULL, NULL, NULL, NULL, NULL, NULL, NULL, NULL, NULL, NULL, NULL, NULL, NULL, NULL, NULL]]                   |\n",
            "|2020-05-04 13:00:00|0.030556496 |[[24.07, 23.69, 23.93, 23.61, 21.95, 20.52, 17.66, 15.16, 13.75, 12.63, 11.81, 11.59, 13.0, 13.46, 13.43, 13.58, 15.52, 16.8, 16.96, 18.46, 19.72, 21.79, 21.95, 22.35, 22.64, 22.29, 22.34, 22.07, 21.12, 20.11, 17.74, 16.82, 15.69, 14.47, 14.95, 14.92, 15.21, 15.91, 16.03, 15.33, 16.44, 16.32, 17.32, 18.19, 18.85, 21.05, 21.88, 22.39], [14.48, 14.4, 14.06, 14.6, 14.34, 14.19, 14.93, 13.53, 12.47, 12.01, 11.19, 10.97, 12.38, 12.68, 12.96, 13.27, 14.23, 14.8, 14.78, 14.95, 15.37, 15.4, 15.31, 15.69, 15.73, 15.4, 15.45, 15.66, 15.21, 14.47, 14.82, 15.0, 14.56, 14.0, 14.16, 14.13, 14.41, 15.11, 15.23, 14.53, 15.14, 15.02, 14.96, 15.07, 15.13, 14.92, 14.77, 14.51], [23.97, 23.58, 23.79, 23.51, 21.82, 20.38, 17.67, 15.08, 13.58, 12.46, 11.55, 11.31, 12.86, 13.34, 13.36, 13.55, 15.53, 16.83, 16.98, 18.45, 19.73, 21.77, 21.92, 22.36, 22.66, 22.27, 22.33, 22.08, 21.09, 20.0, 17.74, 16.88, 15.74, 14.51, 14.98, 14.95, 15.27, 16.04, 16.17, 15.4, 16.54, 16.41, 17.35, 18.21, 18.85, 20.99, 21.79, 22.28], [23.21, 22.78, 23.0, 22.56, 20.84, 19.11, 17.64, 13.55, 12.36, 11.3, 10.44, 10.12, 11.57, 12.01, 12.06, 12.25, 15.14, 16.65, 15.6, 17.09, 18.34, 20.41, 20.55, 21.0, 21.28, 20.93, 21.06, 20.83, 19.89, 18.85, 16.56, 15.52, 14.31, 13.28, 13.77, 13.59, 13.86, 14.65, 14.78, 14.14, 15.37, 15.13, 16.11, 17.01, 17.7, 19.85, 20.67, 21.16], [24.82, 24.33, 24.55, 24.31, 22.57, 21.38, 17.68, 16.24, 15.04, 13.95, 13.2, 13.07, 14.48, 14.97, 15.07, 15.39, 15.91, 16.94, 18.58, 19.81, 21.01, 23.05, 23.23, 23.56, 23.81, 23.46, 23.5, 23.22, 22.11, 21.02, 18.74, 18.04, 17.2, 16.42, 16.94, 16.88, 17.11, 17.78, 17.77, 16.99, 17.71, 17.57, 18.54, 19.41, 19.96, 22.17, 23.05, 23.53], [1018.0, 1018.0, 1019.0, 1019.0, 1019.0, 1019.0, 1019.0, 1019.0, 1018.0, 1018.0, 1018.0, 1018.0, 1017.0, 1018.0, 1018.0, 1018.0, 1018.0, 1018.0, 1017.0, 1017.0, 1016.0, 1016.0, 1016.0, 1016.0, 1016.0, 1016.0, 1016.0, 1016.0, 1016.0, 1016.0, 1016.0, 1016.0, 1016.0, 1016.0, 1016.0, 1017.0, 1017.0, 1017.0, 1017.0, 1018.0, 1018.0, 1018.0, 1017.0, 1017.0, 1016.0, 1016.0, 1016.0, 1016.0], [55.0, 56.0, 54.0, 57.0, 62.0, 67.0, 84.0, 90.0, 92.0, 96.0, 96.0, 96.0, 96.0, 95.0, 97.0, 98.0, 92.0, 88.0, 87.0, 80.0, 76.0, 67.0, 66.0, 66.0, 65.0, 65.0, 65.0, 67.0, 69.0, 70.0, 83.0, 89.0, 93.0, 97.0, 95.0, 95.0, 95.0, 95.0, 95.0, 95.0, 92.0, 92.0, 86.0, 82.0, 79.0, 68.0, 64.0, 61.0], [-0.09806759, 0.35489142, 0.71338695, 0.9273595, 0.2157183, 0.11412194, 0.17749967, 0.3893614, 0.45204526, 0.41345602, 0.40044883, 0.3790092, 0.2543634, 0.21963778, 0.23564002, 0.35238045, 0.0052335956, -0.037691455, 0.4251575, 0.941662, 1.6431504, 2.2945504, 2.950682, 3.7493784, 3.5900185, 2.5514266, 2.7149339, 2.9092567, 3.4444752, 3.3386374, 2.6, 0.23357739, 0.03734815, -0.40126956, -0.99335706, -0.8170215, -0.8066029, -0.22685215, -0.5612588, -0.89, -0.16097383, -0.03560291, 0.279091, 0.35748735, 0.4139327, 0.98758054, 1.303959, 1.3087975], [-2.8082883, -2.5251837, -2.3333836, -2.0828836, -1.5349154, -0.8120198, 0.38064927, 1.1983312, 1.5764692, 1.4418925, 1.1629878, 0.8928897, 0.8319851, 0.49331453, 0.109880745, 0.2956823, 0.099862956, -1.0793421, -1.8415594, -2.2184167, -3.0903165, -3.6720483, -4.0612655, -4.7989855, -5.322421, -5.007457, -4.8978705, -4.655784, -5.5123124, -5.141051, -4.503332, -2.6698017, -2.1396742, -1.8878249, -1.3672388, -1.1245337, -1.653781, -1.6141369, -2.251086, -1.5415252, -1.5315638, -2.0396893, -2.6553736, -3.401265, -3.9383068, -4.646201, -5.229894, -5.2493], [NULL, NULL, NULL, NULL, NULL, NULL, NULL, NULL, NULL, NULL, NULL, NULL, NULL, NULL, NULL, NULL, NULL, NULL, NULL, NULL, NULL, NULL, NULL, NULL, NULL, NULL, NULL, NULL, NULL, NULL, NULL, NULL, NULL, NULL, NULL, NULL, NULL, NULL, NULL, NULL, NULL, NULL, NULL, NULL, NULL, NULL, NULL, NULL], [NULL, NULL, NULL, NULL, NULL, NULL, NULL, NULL, NULL, NULL, NULL, NULL, NULL, NULL, NULL, NULL, NULL, NULL, NULL, NULL, NULL, NULL, NULL, NULL, NULL, NULL, NULL, NULL, NULL, NULL, NULL, NULL, NULL, NULL, NULL, NULL, NULL, NULL, NULL, NULL, NULL, NULL, NULL, NULL, NULL, NULL, NULL, NULL]]                   |\n",
            "|2020-05-04 13:00:00|0.022122324 |[[24.07, 23.69, 23.93, 23.61, 21.95, 20.52, 17.66, 15.16, 13.75, 12.63, 11.81, 11.59, 13.0, 13.46, 13.43, 13.58, 15.52, 16.8, 16.96, 18.46, 19.72, 21.79, 21.95, 22.35, 22.64, 22.29, 22.34, 22.07, 21.12, 20.11, 17.74, 16.82, 15.69, 14.47, 14.95, 14.92, 15.21, 15.91, 16.03, 15.33, 16.44, 16.32, 17.32, 18.19, 18.85, 21.05, 21.88, 22.39], [14.48, 14.4, 14.06, 14.6, 14.34, 14.19, 14.93, 13.53, 12.47, 12.01, 11.19, 10.97, 12.38, 12.68, 12.96, 13.27, 14.23, 14.8, 14.78, 14.95, 15.37, 15.4, 15.31, 15.69, 15.73, 15.4, 15.45, 15.66, 15.21, 14.47, 14.82, 15.0, 14.56, 14.0, 14.16, 14.13, 14.41, 15.11, 15.23, 14.53, 15.14, 15.02, 14.96, 15.07, 15.13, 14.92, 14.77, 14.51], [23.97, 23.58, 23.79, 23.51, 21.82, 20.38, 17.67, 15.08, 13.58, 12.46, 11.55, 11.31, 12.86, 13.34, 13.36, 13.55, 15.53, 16.83, 16.98, 18.45, 19.73, 21.77, 21.92, 22.36, 22.66, 22.27, 22.33, 22.08, 21.09, 20.0, 17.74, 16.88, 15.74, 14.51, 14.98, 14.95, 15.27, 16.04, 16.17, 15.4, 16.54, 16.41, 17.35, 18.21, 18.85, 20.99, 21.79, 22.28], [23.21, 22.78, 23.0, 22.56, 20.84, 19.11, 17.64, 13.55, 12.36, 11.3, 10.44, 10.12, 11.57, 12.01, 12.06, 12.25, 15.14, 16.65, 15.6, 17.09, 18.34, 20.41, 20.55, 21.0, 21.28, 20.93, 21.06, 20.83, 19.89, 18.85, 16.56, 15.52, 14.31, 13.28, 13.77, 13.59, 13.86, 14.65, 14.78, 14.14, 15.37, 15.13, 16.11, 17.01, 17.7, 19.85, 20.67, 21.16], [24.82, 24.33, 24.55, 24.31, 22.57, 21.38, 17.68, 16.24, 15.04, 13.95, 13.2, 13.07, 14.48, 14.97, 15.07, 15.39, 15.91, 16.94, 18.58, 19.81, 21.01, 23.05, 23.23, 23.56, 23.81, 23.46, 23.5, 23.22, 22.11, 21.02, 18.74, 18.04, 17.2, 16.42, 16.94, 16.88, 17.11, 17.78, 17.77, 16.99, 17.71, 17.57, 18.54, 19.41, 19.96, 22.17, 23.05, 23.53], [1018.0, 1018.0, 1019.0, 1019.0, 1019.0, 1019.0, 1019.0, 1019.0, 1018.0, 1018.0, 1018.0, 1018.0, 1017.0, 1018.0, 1018.0, 1018.0, 1018.0, 1018.0, 1017.0, 1017.0, 1016.0, 1016.0, 1016.0, 1016.0, 1016.0, 1016.0, 1016.0, 1016.0, 1016.0, 1016.0, 1016.0, 1016.0, 1016.0, 1016.0, 1016.0, 1017.0, 1017.0, 1017.0, 1017.0, 1018.0, 1018.0, 1018.0, 1017.0, 1017.0, 1016.0, 1016.0, 1016.0, 1016.0], [55.0, 56.0, 54.0, 57.0, 62.0, 67.0, 84.0, 90.0, 92.0, 96.0, 96.0, 96.0, 96.0, 95.0, 97.0, 98.0, 92.0, 88.0, 87.0, 80.0, 76.0, 67.0, 66.0, 66.0, 65.0, 65.0, 65.0, 67.0, 69.0, 70.0, 83.0, 89.0, 93.0, 97.0, 95.0, 95.0, 95.0, 95.0, 95.0, 95.0, 92.0, 92.0, 86.0, 82.0, 79.0, 68.0, 64.0, 61.0], [-0.09806759, 0.35489142, 0.71338695, 0.9273595, 0.2157183, 0.11412194, 0.17749967, 0.3893614, 0.45204526, 0.41345602, 0.40044883, 0.3790092, 0.2543634, 0.21963778, 0.23564002, 0.35238045, 0.0052335956, -0.037691455, 0.4251575, 0.941662, 1.6431504, 2.2945504, 2.950682, 3.7493784, 3.5900185, 2.5514266, 2.7149339, 2.9092567, 3.4444752, 3.3386374, 2.6, 0.23357739, 0.03734815, -0.40126956, -0.99335706, -0.8170215, -0.8066029, -0.22685215, -0.5612588, -0.89, -0.16097383, -0.03560291, 0.279091, 0.35748735, 0.4139327, 0.98758054, 1.303959, 1.3087975], [-2.8082883, -2.5251837, -2.3333836, -2.0828836, -1.5349154, -0.8120198, 0.38064927, 1.1983312, 1.5764692, 1.4418925, 1.1629878, 0.8928897, 0.8319851, 0.49331453, 0.109880745, 0.2956823, 0.099862956, -1.0793421, -1.8415594, -2.2184167, -3.0903165, -3.6720483, -4.0612655, -4.7989855, -5.322421, -5.007457, -4.8978705, -4.655784, -5.5123124, -5.141051, -4.503332, -2.6698017, -2.1396742, -1.8878249, -1.3672388, -1.1245337, -1.653781, -1.6141369, -2.251086, -1.5415252, -1.5315638, -2.0396893, -2.6553736, -3.401265, -3.9383068, -4.646201, -5.229894, -5.2493], [NULL, NULL, NULL, NULL, NULL, NULL, NULL, NULL, NULL, NULL, NULL, NULL, NULL, NULL, NULL, NULL, NULL, NULL, NULL, NULL, NULL, NULL, NULL, NULL, NULL, NULL, NULL, NULL, NULL, NULL, NULL, NULL, NULL, NULL, NULL, NULL, NULL, NULL, NULL, NULL, NULL, NULL, NULL, NULL, NULL, NULL, NULL, NULL], [NULL, NULL, NULL, NULL, NULL, NULL, NULL, NULL, NULL, NULL, NULL, NULL, NULL, NULL, NULL, NULL, NULL, NULL, NULL, NULL, NULL, NULL, NULL, NULL, NULL, NULL, NULL, NULL, NULL, NULL, NULL, NULL, NULL, NULL, NULL, NULL, NULL, NULL, NULL, NULL, NULL, NULL, NULL, NULL, NULL, NULL, NULL, NULL]]                   |\n",
            "|2020-05-02 10:00:00|0.006733798 |[[21.96, 20.29, 19.21, 17.51, 16.18, 15.13, 14.64, 14.75, 14.98, 15.33, 14.94, 14.86, 15.17, 16.03, 15.98, 17.46, 18.54, 19.48, 21.67, 22.48, 22.55, 22.77, 22.48, 22.18, 21.28, 20.38, 19.01, 16.34, 15.82, 14.51, 14.23, 14.48, 14.55, 14.85, 14.92, 14.89, 15.11, 15.79, 15.68, 16.58, 17.65, 18.08, 19.64, 19.54, 20.38, 20.79, 20.59, 20.19], [13.59, 15.08, 14.47, 15.32, 15.21, 14.34, 14.17, 14.28, 14.35, 14.7, 14.15, 14.23, 14.38, 15.07, 15.02, 15.63, 15.97, 15.55, 14.33, 14.08, 14.4, 14.35, 14.08, 14.31, 14.2, 14.28, 13.64, 13.63, 13.48, 13.39, 13.76, 14.01, 14.08, 14.22, 14.45, 14.42, 14.48, 14.99, 14.88, 14.93, 15.1, 14.19, 14.24, 14.36, 14.73, 13.5, 12.81, 12.44], [21.75, 20.25, 19.12, 17.59, 16.31, 15.18, 14.69, 14.81, 15.04, 15.43, 14.97, 14.91, 15.22, 16.14, 16.09, 17.59, 18.67, 19.52, 21.54, 22.32, 22.43, 22.64, 22.32, 22.05, 21.13, 20.25, 18.82, 16.22, 15.7, 14.44, 14.24, 14.52, 14.59, 14.9, 15.0, 14.97, 15.18, 15.91, 15.78, 16.64, 17.69, 17.98, 19.51, 19.43, 20.3, 20.57, 20.3, 19.86], [20.81, 18.98, 17.8, 16.18, 14.87, 13.79, 13.26, 13.45, 13.72, 14.04, 13.6, 13.58, 13.93, 14.83, 14.74, 16.23, 17.35, 18.32, 20.55, 21.32, 21.37, 21.53, 21.31, 21.04, 20.13, 19.34, 17.86, 15.16, 14.67, 13.36, 13.05, 13.32, 13.28, 13.64, 13.8, 13.8, 14.02, 14.64, 14.49, 15.36, 16.42, 16.88, 18.38, 18.17, 18.99, 19.39, 19.27, 18.95], [22.99, 21.4, 20.32, 18.82, 17.59, 16.86, 16.29, 16.46, 16.72, 17.07, 16.6, 16.46, 16.68, 17.36, 17.27, 18.8, 19.87, 20.8, 22.89, 23.68, 23.76, 24.04, 23.65, 23.36, 22.34, 21.39, 19.94, 17.32, 16.62, 15.36, 15.17, 15.48, 15.56, 15.87, 15.99, 16.04, 16.28, 16.91, 16.7, 17.7, 18.8, 19.19, 20.75, 20.84, 21.93, 22.3, 22.0, 21.46], [1017.0, 1017.0, 1017.0, 1017.0, 1016.0, 1016.0, 1016.0, 1017.0, 1017.0, 1016.0, 1017.0, 1017.0, 1017.0, 1017.0, 1017.0, 1016.0, 1016.0, 1016.0, 1016.0, 1016.0, 1016.0, 1016.0, 1016.0, 1015.0, 1016.0, 1016.0, 1016.0, 1016.0, 1016.0, 1016.0, 1016.0, 1015.0, 1016.0, 1016.0, 1016.0, 1016.0, 1016.0, 1017.0, 1016.0, 1016.0, 1015.0, 1015.0, 1015.0, 1015.0, 1016.0, 1016.0, 1016.0, 1016.0], [59.0, 72.0, 74.0, 87.0, 94.0, 95.0, 97.0, 97.0, 96.0, 96.0, 95.0, 96.0, 95.0, 94.0, 94.0, 89.0, 85.0, 78.0, 63.0, 59.0, 60.0, 59.0, 59.0, 61.0, 64.0, 68.0, 71.0, 84.0, 86.0, 93.0, 97.0, 97.0, 97.0, 96.0, 97.0, 97.0, 96.0, 95.0, 95.0, 90.0, 85.0, 78.0, 71.0, 72.0, 70.0, 63.0, 61.0, 61.0], [1.3317102, 1.1128408, 1.0145707, -0.37437564, -1.4787786, -1.9269508, -2.1928682, -2.1740558, -1.624235, -1.626292, -1.7441224, -1.5317401, -1.6225717, -1.7343787, -1.480343, -1.2084407, -1.325, -1.1248219, -0.8166625, -0.41050354, -0.08761108, -9.607354E-16, -0.1943902, -0.36482635, -0.6916903, -1.3781868, -1.0915239, -0.79916054, -0.8517939, -1.1101576, -0.79791206, -1.1284215, -0.8349973, -0.82835, -1.1574435, -1.2712272, -1.27, -1.321894, -1.6584226, -1.5811669, -1.504521, -1.7494128, -1.7237499, -1.9430794, -1.9442011, -1.906768, -1.5014684, -0.9245488], [-5.768271, -4.4633603, -3.7864292, -2.6638212, -1.6423501, -0.40958604, -0.5467435, -1.1077368, -1.3152796, -0.55997723, -0.4026624, -0.5274204, -0.65556157, -0.4004129, -0.42448154, -1.4401636, -2.2949674, -3.4618456, -4.2013645, -4.692077, -5.0192356, -5.23, -5.566607, -5.21726, -4.9216323, -4.8063083, -3.8065963, -2.0818844, -2.0067005, -1.1101576, -1.9749016, -1.2981005, -2.1752424, -1.9514703, -1.4814602, -1.5698348, -2.1997044, -2.9690228, -2.7600787, -2.6315036, -3.2264557, -4.3299484, -4.490522, -3.813508, -4.3667474, -4.4920635, -4.125251, -4.004661], [NULL, NULL, NULL, NULL, NULL, NULL, NULL, NULL, NULL, NULL, NULL, NULL, NULL, NULL, NULL, NULL, NULL, NULL, NULL, NULL, NULL, NULL, NULL, NULL, NULL, NULL, NULL, NULL, NULL, NULL, NULL, NULL, NULL, NULL, NULL, NULL, 0.3, 0.16, NULL, NULL, NULL, NULL, NULL, NULL, NULL, NULL, NULL, NULL], [NULL, NULL, NULL, NULL, NULL, NULL, NULL, NULL, NULL, NULL, NULL, NULL, NULL, NULL, NULL, NULL, NULL, NULL, NULL, NULL, NULL, NULL, NULL, NULL, NULL, NULL, NULL, NULL, NULL, NULL, NULL, NULL, NULL, NULL, NULL, NULL, NULL, NULL, NULL, NULL, NULL, NULL, NULL, NULL, NULL, NULL, NULL, NULL]]|\n",
            "|2020-05-02 10:00:00|0.0036510972|[[21.96, 20.29, 19.21, 17.51, 16.18, 15.13, 14.64, 14.75, 14.98, 15.33, 14.94, 14.86, 15.17, 16.03, 15.98, 17.46, 18.54, 19.48, 21.67, 22.48, 22.55, 22.77, 22.48, 22.18, 21.28, 20.38, 19.01, 16.34, 15.82, 14.51, 14.23, 14.48, 14.55, 14.85, 14.92, 14.89, 15.11, 15.79, 15.68, 16.58, 17.65, 18.08, 19.64, 19.54, 20.38, 20.79, 20.59, 20.19], [13.59, 15.08, 14.47, 15.32, 15.21, 14.34, 14.17, 14.28, 14.35, 14.7, 14.15, 14.23, 14.38, 15.07, 15.02, 15.63, 15.97, 15.55, 14.33, 14.08, 14.4, 14.35, 14.08, 14.31, 14.2, 14.28, 13.64, 13.63, 13.48, 13.39, 13.76, 14.01, 14.08, 14.22, 14.45, 14.42, 14.48, 14.99, 14.88, 14.93, 15.1, 14.19, 14.24, 14.36, 14.73, 13.5, 12.81, 12.44], [21.75, 20.25, 19.12, 17.59, 16.31, 15.18, 14.69, 14.81, 15.04, 15.43, 14.97, 14.91, 15.22, 16.14, 16.09, 17.59, 18.67, 19.52, 21.54, 22.32, 22.43, 22.64, 22.32, 22.05, 21.13, 20.25, 18.82, 16.22, 15.7, 14.44, 14.24, 14.52, 14.59, 14.9, 15.0, 14.97, 15.18, 15.91, 15.78, 16.64, 17.69, 17.98, 19.51, 19.43, 20.3, 20.57, 20.3, 19.86], [20.81, 18.98, 17.8, 16.18, 14.87, 13.79, 13.26, 13.45, 13.72, 14.04, 13.6, 13.58, 13.93, 14.83, 14.74, 16.23, 17.35, 18.32, 20.55, 21.32, 21.37, 21.53, 21.31, 21.04, 20.13, 19.34, 17.86, 15.16, 14.67, 13.36, 13.05, 13.32, 13.28, 13.64, 13.8, 13.8, 14.02, 14.64, 14.49, 15.36, 16.42, 16.88, 18.38, 18.17, 18.99, 19.39, 19.27, 18.95], [22.99, 21.4, 20.32, 18.82, 17.59, 16.86, 16.29, 16.46, 16.72, 17.07, 16.6, 16.46, 16.68, 17.36, 17.27, 18.8, 19.87, 20.8, 22.89, 23.68, 23.76, 24.04, 23.65, 23.36, 22.34, 21.39, 19.94, 17.32, 16.62, 15.36, 15.17, 15.48, 15.56, 15.87, 15.99, 16.04, 16.28, 16.91, 16.7, 17.7, 18.8, 19.19, 20.75, 20.84, 21.93, 22.3, 22.0, 21.46], [1017.0, 1017.0, 1017.0, 1017.0, 1016.0, 1016.0, 1016.0, 1017.0, 1017.0, 1016.0, 1017.0, 1017.0, 1017.0, 1017.0, 1017.0, 1016.0, 1016.0, 1016.0, 1016.0, 1016.0, 1016.0, 1016.0, 1016.0, 1015.0, 1016.0, 1016.0, 1016.0, 1016.0, 1016.0, 1016.0, 1016.0, 1015.0, 1016.0, 1016.0, 1016.0, 1016.0, 1016.0, 1017.0, 1016.0, 1016.0, 1015.0, 1015.0, 1015.0, 1015.0, 1016.0, 1016.0, 1016.0, 1016.0], [59.0, 72.0, 74.0, 87.0, 94.0, 95.0, 97.0, 97.0, 96.0, 96.0, 95.0, 96.0, 95.0, 94.0, 94.0, 89.0, 85.0, 78.0, 63.0, 59.0, 60.0, 59.0, 59.0, 61.0, 64.0, 68.0, 71.0, 84.0, 86.0, 93.0, 97.0, 97.0, 97.0, 96.0, 97.0, 97.0, 96.0, 95.0, 95.0, 90.0, 85.0, 78.0, 71.0, 72.0, 70.0, 63.0, 61.0, 61.0], [1.3317102, 1.1128408, 1.0145707, -0.37437564, -1.4787786, -1.9269508, -2.1928682, -2.1740558, -1.624235, -1.626292, -1.7441224, -1.5317401, -1.6225717, -1.7343787, -1.480343, -1.2084407, -1.325, -1.1248219, -0.8166625, -0.41050354, -0.08761108, -9.607354E-16, -0.1943902, -0.36482635, -0.6916903, -1.3781868, -1.0915239, -0.79916054, -0.8517939, -1.1101576, -0.79791206, -1.1284215, -0.8349973, -0.82835, -1.1574435, -1.2712272, -1.27, -1.321894, -1.6584226, -1.5811669, -1.504521, -1.7494128, -1.7237499, -1.9430794, -1.9442011, -1.906768, -1.5014684, -0.9245488], [-5.768271, -4.4633603, -3.7864292, -2.6638212, -1.6423501, -0.40958604, -0.5467435, -1.1077368, -1.3152796, -0.55997723, -0.4026624, -0.5274204, -0.65556157, -0.4004129, -0.42448154, -1.4401636, -2.2949674, -3.4618456, -4.2013645, -4.692077, -5.0192356, -5.23, -5.566607, -5.21726, -4.9216323, -4.8063083, -3.8065963, -2.0818844, -2.0067005, -1.1101576, -1.9749016, -1.2981005, -2.1752424, -1.9514703, -1.4814602, -1.5698348, -2.1997044, -2.9690228, -2.7600787, -2.6315036, -3.2264557, -4.3299484, -4.490522, -3.813508, -4.3667474, -4.4920635, -4.125251, -4.004661], [NULL, NULL, NULL, NULL, NULL, NULL, NULL, NULL, NULL, NULL, NULL, NULL, NULL, NULL, NULL, NULL, NULL, NULL, NULL, NULL, NULL, NULL, NULL, NULL, NULL, NULL, NULL, NULL, NULL, NULL, NULL, NULL, NULL, NULL, NULL, NULL, 0.3, 0.16, NULL, NULL, NULL, NULL, NULL, NULL, NULL, NULL, NULL, NULL], [NULL, NULL, NULL, NULL, NULL, NULL, NULL, NULL, NULL, NULL, NULL, NULL, NULL, NULL, NULL, NULL, NULL, NULL, NULL, NULL, NULL, NULL, NULL, NULL, NULL, NULL, NULL, NULL, NULL, NULL, NULL, NULL, NULL, NULL, NULL, NULL, NULL, NULL, NULL, NULL, NULL, NULL, NULL, NULL, NULL, NULL, NULL, NULL]]|\n",
            "|2020-05-22 20:00:00|0.0042815064|[[18.29, 21.48, 22.04, 24.13, 26.14, 26.14, 26.49, 26.5, 25.65, 25.5, 25.05, 23.36, 22.15, 18.53, 16.95, 14.74, 13.98, 13.51, 13.44, 15.08, 14.06, 14.39, 15.39, 16.62, 17.19, 20.28, 20.72, 21.68, 23.28, 23.72, 23.91, 24.63, 24.55, 25.02, 24.53, 23.08, 21.82, 18.44, 17.01, 15.18, 14.34, 13.6, 13.4, 14.57, 14.18, 14.31, 15.71, 15.85], [14.78, 15.56, 15.87, 13.67, 10.32, 11.11, 11.03, 10.64, 11.06, 11.29, 12.3, 12.36, 11.84, 12.74, 11.45, 9.75, 9.82, 9.75, 9.88, 11.28, 10.48, 10.61, 10.99, 10.02, 10.09, 10.4, 10.52, 11.41, 10.69, 10.76, 11.6, 10.88, 10.8, 11.23, 11.14, 12.4, 12.66, 15.12, 13.92, 13.21, 13.06, 12.49, 12.45, 13.94, 13.71, 13.52, 14.58, 14.72], [18.26, 21.49, 22.08, 23.96, 26.14, 26.14, 26.49, 26.5, 25.32, 25.18, 24.79, 23.06, 21.78, 18.24, 16.53, 14.15, 13.42, 12.95, 12.9, 14.68, 13.58, 13.92, 14.94, 16.03, 16.61, 19.75, 20.21, 21.26, 22.84, 23.3, 23.56, 24.25, 24.16, 24.67, 24.16, 22.78, 21.52, 18.45, 16.91, 15.05, 14.23, 13.44, 13.25, 14.59, 14.19, 14.28, 15.76, 15.92], [18.12, 21.34, 21.35, 23.55, 25.53, 25.54, 25.83, 25.8, 24.91, 24.69, 24.16, 22.36, 21.08, 17.46, 15.36, 13.38, 11.5, 11.09, 10.98, 12.66, 13.09, 14.06, 15.33, 16.49, 17.13, 20.1, 19.62, 20.71, 22.37, 22.79, 23.0, 23.72, 23.62, 24.07, 23.59, 22.15, 20.88, 17.45, 15.92, 14.03, 13.03, 12.05, 11.81, 13.51, 12.79, 12.96, 14.46, 14.73], [18.46, 21.63, 22.89, 25.22, 27.33, 27.22, 27.72, 27.81, 26.94, 26.7, 26.13, 24.09, 22.82, 19.28, 18.64, 16.1, 15.6, 15.04, 15.07, 16.9, 15.04, 14.71, 15.45, 16.76, 17.25, 20.47, 21.49, 22.58, 24.26, 24.7, 24.97, 25.73, 25.6, 26.07, 25.43, 23.97, 22.41, 19.09, 18.19, 16.74, 16.07, 15.43, 15.26, 15.62, 16.04, 15.8, 17.26, 17.02], [1026.0, 1025.0, 1025.0, 1024.0, 1024.0, 1024.0, 1024.0, 1024.0, 1024.0, 1023.0, 1024.0, 1024.0, 1024.0, 1023.0, 1023.0, 1022.0, 1022.0, 1021.0, 1021.0, 1021.0, 1021.0, 1021.0, 1021.0, 1021.0, 1020.0, 1019.0, 1018.0, 1018.0, 1017.0, 1017.0, 1017.0, 1017.0, 1018.0, 1017.0, 1017.0, 1017.0, 1017.0, 1017.0, 1016.0, 1015.0, 1015.0, 1015.0, 1015.0, 1015.0, 1015.0, 1015.0, 1015.0, 1014.0], [80.0, 69.0, 68.0, 52.0, 37.0, 39.0, 38.0, 37.0, 40.0, 41.0, 45.0, 50.0, 52.0, 69.0, 70.0, 72.0, 76.0, 78.0, 79.0, 78.0, 79.0, 78.0, 75.0, 65.0, 63.0, 53.0, 52.0, 52.0, 45.0, 44.0, 46.0, 42.0, 42.0, 42.0, 43.0, 51.0, 56.0, 81.0, 82.0, 88.0, 92.0, 93.0, 94.0, 96.0, 97.0, 95.0, 93.0, 93.0], [-1.7552829, -1.7431056, -1.0176027, -0.865739, -0.32452512, 0.26354972, 0.38030392, 0.7101417, 1.1205039, 1.6864067, 2.0749269, 2.0764523, 1.9503831, 1.1604741, 0.83988243, 0.59578973, 0.52223873, 0.38949424, 0.26394522, 0.09556637, 6.858022E-17, 5.572143E-17, -0.098714165, 0.31210718, 0.64307183, 1.0793421, 1.1667262, 1.5653256, 2.3380823, 3.0887532, 3.4348469, 3.6733751, 4.186472, 4.7467732, 4.6641626, 3.722048, 3.4626424, 2.6100955, 2.2720666, 2.19855, 2.2233152, 2.0829985, 1.6974097, 1.6057583, 1.89624, 1.9514703, 2.0667298, 0.8553663], [0.89436126, 0.7042604, 0.39062107, 0.52018845, 0.2821054, 0.19859895, 0.35463914, 0.9423899, 1.4341795, 1.3656253, 1.1032581, 1.5647191, 0.9512654, 0.67, 1.648362, 1.730299, 1.6072855, 1.5621761, 1.4969078, 1.3666627, 1.12, 0.91, 0.8039624, 0.96056706, 0.9533932, -0.037691455, -1.1667262, -1.1795574, -0.9924571, -0.71309483, -0.8564035, -0.8480655, -0.88986206, -0.8369842, -0.6555053, 0.45701003, 0.7360074, 0.6507699, 1.1576757, 1.7176955, 2.073275, 1.810723, 0.98, 0.61639285, 0.80490613, 0.82835, 0.51529366, 0.4358309], [NULL, NULL, NULL, NULL, NULL, NULL, NULL, NULL, NULL, NULL, NULL, NULL, NULL, NULL, NULL, NULL, NULL, NULL, NULL, NULL, NULL, NULL, NULL, NULL, NULL, NULL, NULL, NULL, NULL, NULL, NULL, NULL, NULL, NULL, NULL, NULL, NULL, NULL, NULL, NULL, NULL, NULL, NULL, NULL, NULL, NULL, NULL, NULL], [NULL, NULL, NULL, NULL, NULL, NULL, NULL, NULL, NULL, NULL, NULL, NULL, NULL, NULL, NULL, NULL, NULL, NULL, NULL, NULL, NULL, NULL, NULL, NULL, NULL, NULL, NULL, NULL, NULL, NULL, NULL, NULL, NULL, NULL, NULL, NULL, NULL, NULL, NULL, NULL, NULL, NULL, NULL, NULL, NULL, NULL, NULL, NULL]]                                                              |\n",
            "|2020-05-22 20:00:00|0.018151687 |[[18.29, 21.48, 22.04, 24.13, 26.14, 26.14, 26.49, 26.5, 25.65, 25.5, 25.05, 23.36, 22.15, 18.53, 16.95, 14.74, 13.98, 13.51, 13.44, 15.08, 14.06, 14.39, 15.39, 16.62, 17.19, 20.28, 20.72, 21.68, 23.28, 23.72, 23.91, 24.63, 24.55, 25.02, 24.53, 23.08, 21.82, 18.44, 17.01, 15.18, 14.34, 13.6, 13.4, 14.57, 14.18, 14.31, 15.71, 15.85], [14.78, 15.56, 15.87, 13.67, 10.32, 11.11, 11.03, 10.64, 11.06, 11.29, 12.3, 12.36, 11.84, 12.74, 11.45, 9.75, 9.82, 9.75, 9.88, 11.28, 10.48, 10.61, 10.99, 10.02, 10.09, 10.4, 10.52, 11.41, 10.69, 10.76, 11.6, 10.88, 10.8, 11.23, 11.14, 12.4, 12.66, 15.12, 13.92, 13.21, 13.06, 12.49, 12.45, 13.94, 13.71, 13.52, 14.58, 14.72], [18.26, 21.49, 22.08, 23.96, 26.14, 26.14, 26.49, 26.5, 25.32, 25.18, 24.79, 23.06, 21.78, 18.24, 16.53, 14.15, 13.42, 12.95, 12.9, 14.68, 13.58, 13.92, 14.94, 16.03, 16.61, 19.75, 20.21, 21.26, 22.84, 23.3, 23.56, 24.25, 24.16, 24.67, 24.16, 22.78, 21.52, 18.45, 16.91, 15.05, 14.23, 13.44, 13.25, 14.59, 14.19, 14.28, 15.76, 15.92], [18.12, 21.34, 21.35, 23.55, 25.53, 25.54, 25.83, 25.8, 24.91, 24.69, 24.16, 22.36, 21.08, 17.46, 15.36, 13.38, 11.5, 11.09, 10.98, 12.66, 13.09, 14.06, 15.33, 16.49, 17.13, 20.1, 19.62, 20.71, 22.37, 22.79, 23.0, 23.72, 23.62, 24.07, 23.59, 22.15, 20.88, 17.45, 15.92, 14.03, 13.03, 12.05, 11.81, 13.51, 12.79, 12.96, 14.46, 14.73], [18.46, 21.63, 22.89, 25.22, 27.33, 27.22, 27.72, 27.81, 26.94, 26.7, 26.13, 24.09, 22.82, 19.28, 18.64, 16.1, 15.6, 15.04, 15.07, 16.9, 15.04, 14.71, 15.45, 16.76, 17.25, 20.47, 21.49, 22.58, 24.26, 24.7, 24.97, 25.73, 25.6, 26.07, 25.43, 23.97, 22.41, 19.09, 18.19, 16.74, 16.07, 15.43, 15.26, 15.62, 16.04, 15.8, 17.26, 17.02], [1026.0, 1025.0, 1025.0, 1024.0, 1024.0, 1024.0, 1024.0, 1024.0, 1024.0, 1023.0, 1024.0, 1024.0, 1024.0, 1023.0, 1023.0, 1022.0, 1022.0, 1021.0, 1021.0, 1021.0, 1021.0, 1021.0, 1021.0, 1021.0, 1020.0, 1019.0, 1018.0, 1018.0, 1017.0, 1017.0, 1017.0, 1017.0, 1018.0, 1017.0, 1017.0, 1017.0, 1017.0, 1017.0, 1016.0, 1015.0, 1015.0, 1015.0, 1015.0, 1015.0, 1015.0, 1015.0, 1015.0, 1014.0], [80.0, 69.0, 68.0, 52.0, 37.0, 39.0, 38.0, 37.0, 40.0, 41.0, 45.0, 50.0, 52.0, 69.0, 70.0, 72.0, 76.0, 78.0, 79.0, 78.0, 79.0, 78.0, 75.0, 65.0, 63.0, 53.0, 52.0, 52.0, 45.0, 44.0, 46.0, 42.0, 42.0, 42.0, 43.0, 51.0, 56.0, 81.0, 82.0, 88.0, 92.0, 93.0, 94.0, 96.0, 97.0, 95.0, 93.0, 93.0], [-1.7552829, -1.7431056, -1.0176027, -0.865739, -0.32452512, 0.26354972, 0.38030392, 0.7101417, 1.1205039, 1.6864067, 2.0749269, 2.0764523, 1.9503831, 1.1604741, 0.83988243, 0.59578973, 0.52223873, 0.38949424, 0.26394522, 0.09556637, 6.858022E-17, 5.572143E-17, -0.098714165, 0.31210718, 0.64307183, 1.0793421, 1.1667262, 1.5653256, 2.3380823, 3.0887532, 3.4348469, 3.6733751, 4.186472, 4.7467732, 4.6641626, 3.722048, 3.4626424, 2.6100955, 2.2720666, 2.19855, 2.2233152, 2.0829985, 1.6974097, 1.6057583, 1.89624, 1.9514703, 2.0667298, 0.8553663], [0.89436126, 0.7042604, 0.39062107, 0.52018845, 0.2821054, 0.19859895, 0.35463914, 0.9423899, 1.4341795, 1.3656253, 1.1032581, 1.5647191, 0.9512654, 0.67, 1.648362, 1.730299, 1.6072855, 1.5621761, 1.4969078, 1.3666627, 1.12, 0.91, 0.8039624, 0.96056706, 0.9533932, -0.037691455, -1.1667262, -1.1795574, -0.9924571, -0.71309483, -0.8564035, -0.8480655, -0.88986206, -0.8369842, -0.6555053, 0.45701003, 0.7360074, 0.6507699, 1.1576757, 1.7176955, 2.073275, 1.810723, 0.98, 0.61639285, 0.80490613, 0.82835, 0.51529366, 0.4358309], [NULL, NULL, NULL, NULL, NULL, NULL, NULL, NULL, NULL, NULL, NULL, NULL, NULL, NULL, NULL, NULL, NULL, NULL, NULL, NULL, NULL, NULL, NULL, NULL, NULL, NULL, NULL, NULL, NULL, NULL, NULL, NULL, NULL, NULL, NULL, NULL, NULL, NULL, NULL, NULL, NULL, NULL, NULL, NULL, NULL, NULL, NULL, NULL], [NULL, NULL, NULL, NULL, NULL, NULL, NULL, NULL, NULL, NULL, NULL, NULL, NULL, NULL, NULL, NULL, NULL, NULL, NULL, NULL, NULL, NULL, NULL, NULL, NULL, NULL, NULL, NULL, NULL, NULL, NULL, NULL, NULL, NULL, NULL, NULL, NULL, NULL, NULL, NULL, NULL, NULL, NULL, NULL, NULL, NULL, NULL, NULL]]                                                              |\n",
            "|2020-05-22 20:00:00|0.01557671  |[[18.29, 21.48, 22.04, 24.13, 26.14, 26.14, 26.49, 26.5, 25.65, 25.5, 25.05, 23.36, 22.15, 18.53, 16.95, 14.74, 13.98, 13.51, 13.44, 15.08, 14.06, 14.39, 15.39, 16.62, 17.19, 20.28, 20.72, 21.68, 23.28, 23.72, 23.91, 24.63, 24.55, 25.02, 24.53, 23.08, 21.82, 18.44, 17.01, 15.18, 14.34, 13.6, 13.4, 14.57, 14.18, 14.31, 15.71, 15.85], [14.78, 15.56, 15.87, 13.67, 10.32, 11.11, 11.03, 10.64, 11.06, 11.29, 12.3, 12.36, 11.84, 12.74, 11.45, 9.75, 9.82, 9.75, 9.88, 11.28, 10.48, 10.61, 10.99, 10.02, 10.09, 10.4, 10.52, 11.41, 10.69, 10.76, 11.6, 10.88, 10.8, 11.23, 11.14, 12.4, 12.66, 15.12, 13.92, 13.21, 13.06, 12.49, 12.45, 13.94, 13.71, 13.52, 14.58, 14.72], [18.26, 21.49, 22.08, 23.96, 26.14, 26.14, 26.49, 26.5, 25.32, 25.18, 24.79, 23.06, 21.78, 18.24, 16.53, 14.15, 13.42, 12.95, 12.9, 14.68, 13.58, 13.92, 14.94, 16.03, 16.61, 19.75, 20.21, 21.26, 22.84, 23.3, 23.56, 24.25, 24.16, 24.67, 24.16, 22.78, 21.52, 18.45, 16.91, 15.05, 14.23, 13.44, 13.25, 14.59, 14.19, 14.28, 15.76, 15.92], [18.12, 21.34, 21.35, 23.55, 25.53, 25.54, 25.83, 25.8, 24.91, 24.69, 24.16, 22.36, 21.08, 17.46, 15.36, 13.38, 11.5, 11.09, 10.98, 12.66, 13.09, 14.06, 15.33, 16.49, 17.13, 20.1, 19.62, 20.71, 22.37, 22.79, 23.0, 23.72, 23.62, 24.07, 23.59, 22.15, 20.88, 17.45, 15.92, 14.03, 13.03, 12.05, 11.81, 13.51, 12.79, 12.96, 14.46, 14.73], [18.46, 21.63, 22.89, 25.22, 27.33, 27.22, 27.72, 27.81, 26.94, 26.7, 26.13, 24.09, 22.82, 19.28, 18.64, 16.1, 15.6, 15.04, 15.07, 16.9, 15.04, 14.71, 15.45, 16.76, 17.25, 20.47, 21.49, 22.58, 24.26, 24.7, 24.97, 25.73, 25.6, 26.07, 25.43, 23.97, 22.41, 19.09, 18.19, 16.74, 16.07, 15.43, 15.26, 15.62, 16.04, 15.8, 17.26, 17.02], [1026.0, 1025.0, 1025.0, 1024.0, 1024.0, 1024.0, 1024.0, 1024.0, 1024.0, 1023.0, 1024.0, 1024.0, 1024.0, 1023.0, 1023.0, 1022.0, 1022.0, 1021.0, 1021.0, 1021.0, 1021.0, 1021.0, 1021.0, 1021.0, 1020.0, 1019.0, 1018.0, 1018.0, 1017.0, 1017.0, 1017.0, 1017.0, 1018.0, 1017.0, 1017.0, 1017.0, 1017.0, 1017.0, 1016.0, 1015.0, 1015.0, 1015.0, 1015.0, 1015.0, 1015.0, 1015.0, 1015.0, 1014.0], [80.0, 69.0, 68.0, 52.0, 37.0, 39.0, 38.0, 37.0, 40.0, 41.0, 45.0, 50.0, 52.0, 69.0, 70.0, 72.0, 76.0, 78.0, 79.0, 78.0, 79.0, 78.0, 75.0, 65.0, 63.0, 53.0, 52.0, 52.0, 45.0, 44.0, 46.0, 42.0, 42.0, 42.0, 43.0, 51.0, 56.0, 81.0, 82.0, 88.0, 92.0, 93.0, 94.0, 96.0, 97.0, 95.0, 93.0, 93.0], [-1.7552829, -1.7431056, -1.0176027, -0.865739, -0.32452512, 0.26354972, 0.38030392, 0.7101417, 1.1205039, 1.6864067, 2.0749269, 2.0764523, 1.9503831, 1.1604741, 0.83988243, 0.59578973, 0.52223873, 0.38949424, 0.26394522, 0.09556637, 6.858022E-17, 5.572143E-17, -0.098714165, 0.31210718, 0.64307183, 1.0793421, 1.1667262, 1.5653256, 2.3380823, 3.0887532, 3.4348469, 3.6733751, 4.186472, 4.7467732, 4.6641626, 3.722048, 3.4626424, 2.6100955, 2.2720666, 2.19855, 2.2233152, 2.0829985, 1.6974097, 1.6057583, 1.89624, 1.9514703, 2.0667298, 0.8553663], [0.89436126, 0.7042604, 0.39062107, 0.52018845, 0.2821054, 0.19859895, 0.35463914, 0.9423899, 1.4341795, 1.3656253, 1.1032581, 1.5647191, 0.9512654, 0.67, 1.648362, 1.730299, 1.6072855, 1.5621761, 1.4969078, 1.3666627, 1.12, 0.91, 0.8039624, 0.96056706, 0.9533932, -0.037691455, -1.1667262, -1.1795574, -0.9924571, -0.71309483, -0.8564035, -0.8480655, -0.88986206, -0.8369842, -0.6555053, 0.45701003, 0.7360074, 0.6507699, 1.1576757, 1.7176955, 2.073275, 1.810723, 0.98, 0.61639285, 0.80490613, 0.82835, 0.51529366, 0.4358309], [NULL, NULL, NULL, NULL, NULL, NULL, NULL, NULL, NULL, NULL, NULL, NULL, NULL, NULL, NULL, NULL, NULL, NULL, NULL, NULL, NULL, NULL, NULL, NULL, NULL, NULL, NULL, NULL, NULL, NULL, NULL, NULL, NULL, NULL, NULL, NULL, NULL, NULL, NULL, NULL, NULL, NULL, NULL, NULL, NULL, NULL, NULL, NULL], [NULL, NULL, NULL, NULL, NULL, NULL, NULL, NULL, NULL, NULL, NULL, NULL, NULL, NULL, NULL, NULL, NULL, NULL, NULL, NULL, NULL, NULL, NULL, NULL, NULL, NULL, NULL, NULL, NULL, NULL, NULL, NULL, NULL, NULL, NULL, NULL, NULL, NULL, NULL, NULL, NULL, NULL, NULL, NULL, NULL, NULL, NULL, NULL]]                                                              |\n",
            "|2020-05-22 20:00:00|0.0084048975|[[18.29, 21.48, 22.04, 24.13, 26.14, 26.14, 26.49, 26.5, 25.65, 25.5, 25.05, 23.36, 22.15, 18.53, 16.95, 14.74, 13.98, 13.51, 13.44, 15.08, 14.06, 14.39, 15.39, 16.62, 17.19, 20.28, 20.72, 21.68, 23.28, 23.72, 23.91, 24.63, 24.55, 25.02, 24.53, 23.08, 21.82, 18.44, 17.01, 15.18, 14.34, 13.6, 13.4, 14.57, 14.18, 14.31, 15.71, 15.85], [14.78, 15.56, 15.87, 13.67, 10.32, 11.11, 11.03, 10.64, 11.06, 11.29, 12.3, 12.36, 11.84, 12.74, 11.45, 9.75, 9.82, 9.75, 9.88, 11.28, 10.48, 10.61, 10.99, 10.02, 10.09, 10.4, 10.52, 11.41, 10.69, 10.76, 11.6, 10.88, 10.8, 11.23, 11.14, 12.4, 12.66, 15.12, 13.92, 13.21, 13.06, 12.49, 12.45, 13.94, 13.71, 13.52, 14.58, 14.72], [18.26, 21.49, 22.08, 23.96, 26.14, 26.14, 26.49, 26.5, 25.32, 25.18, 24.79, 23.06, 21.78, 18.24, 16.53, 14.15, 13.42, 12.95, 12.9, 14.68, 13.58, 13.92, 14.94, 16.03, 16.61, 19.75, 20.21, 21.26, 22.84, 23.3, 23.56, 24.25, 24.16, 24.67, 24.16, 22.78, 21.52, 18.45, 16.91, 15.05, 14.23, 13.44, 13.25, 14.59, 14.19, 14.28, 15.76, 15.92], [18.12, 21.34, 21.35, 23.55, 25.53, 25.54, 25.83, 25.8, 24.91, 24.69, 24.16, 22.36, 21.08, 17.46, 15.36, 13.38, 11.5, 11.09, 10.98, 12.66, 13.09, 14.06, 15.33, 16.49, 17.13, 20.1, 19.62, 20.71, 22.37, 22.79, 23.0, 23.72, 23.62, 24.07, 23.59, 22.15, 20.88, 17.45, 15.92, 14.03, 13.03, 12.05, 11.81, 13.51, 12.79, 12.96, 14.46, 14.73], [18.46, 21.63, 22.89, 25.22, 27.33, 27.22, 27.72, 27.81, 26.94, 26.7, 26.13, 24.09, 22.82, 19.28, 18.64, 16.1, 15.6, 15.04, 15.07, 16.9, 15.04, 14.71, 15.45, 16.76, 17.25, 20.47, 21.49, 22.58, 24.26, 24.7, 24.97, 25.73, 25.6, 26.07, 25.43, 23.97, 22.41, 19.09, 18.19, 16.74, 16.07, 15.43, 15.26, 15.62, 16.04, 15.8, 17.26, 17.02], [1026.0, 1025.0, 1025.0, 1024.0, 1024.0, 1024.0, 1024.0, 1024.0, 1024.0, 1023.0, 1024.0, 1024.0, 1024.0, 1023.0, 1023.0, 1022.0, 1022.0, 1021.0, 1021.0, 1021.0, 1021.0, 1021.0, 1021.0, 1021.0, 1020.0, 1019.0, 1018.0, 1018.0, 1017.0, 1017.0, 1017.0, 1017.0, 1018.0, 1017.0, 1017.0, 1017.0, 1017.0, 1017.0, 1016.0, 1015.0, 1015.0, 1015.0, 1015.0, 1015.0, 1015.0, 1015.0, 1015.0, 1014.0], [80.0, 69.0, 68.0, 52.0, 37.0, 39.0, 38.0, 37.0, 40.0, 41.0, 45.0, 50.0, 52.0, 69.0, 70.0, 72.0, 76.0, 78.0, 79.0, 78.0, 79.0, 78.0, 75.0, 65.0, 63.0, 53.0, 52.0, 52.0, 45.0, 44.0, 46.0, 42.0, 42.0, 42.0, 43.0, 51.0, 56.0, 81.0, 82.0, 88.0, 92.0, 93.0, 94.0, 96.0, 97.0, 95.0, 93.0, 93.0], [-1.7552829, -1.7431056, -1.0176027, -0.865739, -0.32452512, 0.26354972, 0.38030392, 0.7101417, 1.1205039, 1.6864067, 2.0749269, 2.0764523, 1.9503831, 1.1604741, 0.83988243, 0.59578973, 0.52223873, 0.38949424, 0.26394522, 0.09556637, 6.858022E-17, 5.572143E-17, -0.098714165, 0.31210718, 0.64307183, 1.0793421, 1.1667262, 1.5653256, 2.3380823, 3.0887532, 3.4348469, 3.6733751, 4.186472, 4.7467732, 4.6641626, 3.722048, 3.4626424, 2.6100955, 2.2720666, 2.19855, 2.2233152, 2.0829985, 1.6974097, 1.6057583, 1.89624, 1.9514703, 2.0667298, 0.8553663], [0.89436126, 0.7042604, 0.39062107, 0.52018845, 0.2821054, 0.19859895, 0.35463914, 0.9423899, 1.4341795, 1.3656253, 1.1032581, 1.5647191, 0.9512654, 0.67, 1.648362, 1.730299, 1.6072855, 1.5621761, 1.4969078, 1.3666627, 1.12, 0.91, 0.8039624, 0.96056706, 0.9533932, -0.037691455, -1.1667262, -1.1795574, -0.9924571, -0.71309483, -0.8564035, -0.8480655, -0.88986206, -0.8369842, -0.6555053, 0.45701003, 0.7360074, 0.6507699, 1.1576757, 1.7176955, 2.073275, 1.810723, 0.98, 0.61639285, 0.80490613, 0.82835, 0.51529366, 0.4358309], [NULL, NULL, NULL, NULL, NULL, NULL, NULL, NULL, NULL, NULL, NULL, NULL, NULL, NULL, NULL, NULL, NULL, NULL, NULL, NULL, NULL, NULL, NULL, NULL, NULL, NULL, NULL, NULL, NULL, NULL, NULL, NULL, NULL, NULL, NULL, NULL, NULL, NULL, NULL, NULL, NULL, NULL, NULL, NULL, NULL, NULL, NULL, NULL], [NULL, NULL, NULL, NULL, NULL, NULL, NULL, NULL, NULL, NULL, NULL, NULL, NULL, NULL, NULL, NULL, NULL, NULL, NULL, NULL, NULL, NULL, NULL, NULL, NULL, NULL, NULL, NULL, NULL, NULL, NULL, NULL, NULL, NULL, NULL, NULL, NULL, NULL, NULL, NULL, NULL, NULL, NULL, NULL, NULL, NULL, NULL, NULL]]                                                              |\n",
            "|2020-05-22 20:00:00|0.005866858 |[[18.29, 21.48, 22.04, 24.13, 26.14, 26.14, 26.49, 26.5, 25.65, 25.5, 25.05, 23.36, 22.15, 18.53, 16.95, 14.74, 13.98, 13.51, 13.44, 15.08, 14.06, 14.39, 15.39, 16.62, 17.19, 20.28, 20.72, 21.68, 23.28, 23.72, 23.91, 24.63, 24.55, 25.02, 24.53, 23.08, 21.82, 18.44, 17.01, 15.18, 14.34, 13.6, 13.4, 14.57, 14.18, 14.31, 15.71, 15.85], [14.78, 15.56, 15.87, 13.67, 10.32, 11.11, 11.03, 10.64, 11.06, 11.29, 12.3, 12.36, 11.84, 12.74, 11.45, 9.75, 9.82, 9.75, 9.88, 11.28, 10.48, 10.61, 10.99, 10.02, 10.09, 10.4, 10.52, 11.41, 10.69, 10.76, 11.6, 10.88, 10.8, 11.23, 11.14, 12.4, 12.66, 15.12, 13.92, 13.21, 13.06, 12.49, 12.45, 13.94, 13.71, 13.52, 14.58, 14.72], [18.26, 21.49, 22.08, 23.96, 26.14, 26.14, 26.49, 26.5, 25.32, 25.18, 24.79, 23.06, 21.78, 18.24, 16.53, 14.15, 13.42, 12.95, 12.9, 14.68, 13.58, 13.92, 14.94, 16.03, 16.61, 19.75, 20.21, 21.26, 22.84, 23.3, 23.56, 24.25, 24.16, 24.67, 24.16, 22.78, 21.52, 18.45, 16.91, 15.05, 14.23, 13.44, 13.25, 14.59, 14.19, 14.28, 15.76, 15.92], [18.12, 21.34, 21.35, 23.55, 25.53, 25.54, 25.83, 25.8, 24.91, 24.69, 24.16, 22.36, 21.08, 17.46, 15.36, 13.38, 11.5, 11.09, 10.98, 12.66, 13.09, 14.06, 15.33, 16.49, 17.13, 20.1, 19.62, 20.71, 22.37, 22.79, 23.0, 23.72, 23.62, 24.07, 23.59, 22.15, 20.88, 17.45, 15.92, 14.03, 13.03, 12.05, 11.81, 13.51, 12.79, 12.96, 14.46, 14.73], [18.46, 21.63, 22.89, 25.22, 27.33, 27.22, 27.72, 27.81, 26.94, 26.7, 26.13, 24.09, 22.82, 19.28, 18.64, 16.1, 15.6, 15.04, 15.07, 16.9, 15.04, 14.71, 15.45, 16.76, 17.25, 20.47, 21.49, 22.58, 24.26, 24.7, 24.97, 25.73, 25.6, 26.07, 25.43, 23.97, 22.41, 19.09, 18.19, 16.74, 16.07, 15.43, 15.26, 15.62, 16.04, 15.8, 17.26, 17.02], [1026.0, 1025.0, 1025.0, 1024.0, 1024.0, 1024.0, 1024.0, 1024.0, 1024.0, 1023.0, 1024.0, 1024.0, 1024.0, 1023.0, 1023.0, 1022.0, 1022.0, 1021.0, 1021.0, 1021.0, 1021.0, 1021.0, 1021.0, 1021.0, 1020.0, 1019.0, 1018.0, 1018.0, 1017.0, 1017.0, 1017.0, 1017.0, 1018.0, 1017.0, 1017.0, 1017.0, 1017.0, 1017.0, 1016.0, 1015.0, 1015.0, 1015.0, 1015.0, 1015.0, 1015.0, 1015.0, 1015.0, 1014.0], [80.0, 69.0, 68.0, 52.0, 37.0, 39.0, 38.0, 37.0, 40.0, 41.0, 45.0, 50.0, 52.0, 69.0, 70.0, 72.0, 76.0, 78.0, 79.0, 78.0, 79.0, 78.0, 75.0, 65.0, 63.0, 53.0, 52.0, 52.0, 45.0, 44.0, 46.0, 42.0, 42.0, 42.0, 43.0, 51.0, 56.0, 81.0, 82.0, 88.0, 92.0, 93.0, 94.0, 96.0, 97.0, 95.0, 93.0, 93.0], [-1.7552829, -1.7431056, -1.0176027, -0.865739, -0.32452512, 0.26354972, 0.38030392, 0.7101417, 1.1205039, 1.6864067, 2.0749269, 2.0764523, 1.9503831, 1.1604741, 0.83988243, 0.59578973, 0.52223873, 0.38949424, 0.26394522, 0.09556637, 6.858022E-17, 5.572143E-17, -0.098714165, 0.31210718, 0.64307183, 1.0793421, 1.1667262, 1.5653256, 2.3380823, 3.0887532, 3.4348469, 3.6733751, 4.186472, 4.7467732, 4.6641626, 3.722048, 3.4626424, 2.6100955, 2.2720666, 2.19855, 2.2233152, 2.0829985, 1.6974097, 1.6057583, 1.89624, 1.9514703, 2.0667298, 0.8553663], [0.89436126, 0.7042604, 0.39062107, 0.52018845, 0.2821054, 0.19859895, 0.35463914, 0.9423899, 1.4341795, 1.3656253, 1.1032581, 1.5647191, 0.9512654, 0.67, 1.648362, 1.730299, 1.6072855, 1.5621761, 1.4969078, 1.3666627, 1.12, 0.91, 0.8039624, 0.96056706, 0.9533932, -0.037691455, -1.1667262, -1.1795574, -0.9924571, -0.71309483, -0.8564035, -0.8480655, -0.88986206, -0.8369842, -0.6555053, 0.45701003, 0.7360074, 0.6507699, 1.1576757, 1.7176955, 2.073275, 1.810723, 0.98, 0.61639285, 0.80490613, 0.82835, 0.51529366, 0.4358309], [NULL, NULL, NULL, NULL, NULL, NULL, NULL, NULL, NULL, NULL, NULL, NULL, NULL, NULL, NULL, NULL, NULL, NULL, NULL, NULL, NULL, NULL, NULL, NULL, NULL, NULL, NULL, NULL, NULL, NULL, NULL, NULL, NULL, NULL, NULL, NULL, NULL, NULL, NULL, NULL, NULL, NULL, NULL, NULL, NULL, NULL, NULL, NULL], [NULL, NULL, NULL, NULL, NULL, NULL, NULL, NULL, NULL, NULL, NULL, NULL, NULL, NULL, NULL, NULL, NULL, NULL, NULL, NULL, NULL, NULL, NULL, NULL, NULL, NULL, NULL, NULL, NULL, NULL, NULL, NULL, NULL, NULL, NULL, NULL, NULL, NULL, NULL, NULL, NULL, NULL, NULL, NULL, NULL, NULL, NULL, NULL]]                                                              |\n",
            "+-------------------+------------+-------------------------------------------------------------------------------------------------------------------------------------------------------------------------------------------------------------------------------------------------------------------------------------------------------------------------------------------------------------------------------------------------------------------------------------------------------------------------------------------------------------------------------------------------------------------------------------------------------------------------------------------------------------------------------------------------------------------------------------------------------------------------------------------------------------------------------------------------------------------------------------------------------------------------------------------------------------------------------------------------------------------------------------------------------------------------------------------------------------------------------------------------------------------------------------------------------------------------------------------------------------------------------------------------------------------------------------------------------------------------------------------------------------------------------------------------------------------------------------------------------------------------------------------------------------------------------------------------------------------------------------------------------------------------------------------------------------------------------------------------------------------------------------------------------------------------------------------------------------------------------------------------------------------------------------------------------------------------------------------------------------------------------------------------------------------------------------------------------------------------------------------------------------------------------------------------------------------------------------------------------------------------------------------------------------------------------------------------------------------------------------------------------------------------------------------------------------------------------------------------------------------------------------------------------------------------------------------------------------------------------------------------------------------------------------------------------------------------------------------------------------------------------------------------------------------------------------------------------------------------------------------------------------------------------------------------------------------------------------------------------------------------------------------------------------------------------------------------------------------------------------------------------------------------------------------------------------------------------------------------------------------------------------------------------------------------------------------------------------------------------------------------------------------------------------------------------------------------------------------------------------------------------------------------------------------------------------------------------------------------------------------------------------------------------------------------------------------------------------------------------------------------------------------------------------------------------------------------------------------------------------------------------------------------------------------------------------------------------------------------------------------------------------------------------------------------------------------------------------------------------------------------------------------------------------------------------------------------+\n",
            "only showing top 10 rows\n",
            "\n"
          ]
        }
      ]
    }
  ]
}